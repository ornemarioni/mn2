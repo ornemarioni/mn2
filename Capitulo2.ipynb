{
 "cells": [
  {
   "cell_type": "code",
   "execution_count": 1,
   "metadata": {},
   "outputs": [
    {
     "name": "stdout",
     "output_type": "stream",
     "text": [
      "Populating the interactive namespace from numpy and matplotlib\n"
     ]
    }
   ],
   "source": [
    "%pylab inline"
   ]
  },
  {
   "cell_type": "markdown",
   "metadata": {},
   "source": [
    "# Figura 2.2\n",
    "\n",
    "Vamos a integrar la ecuación 2.29 con condición inicial $u(0)=1$\n",
    "\n",
    "\\begin{equation}\n",
    "\\dfrac{du(t)}{dt} = -u(t) \\:\\:\\:\\:\\:(2.29)\n",
    "\\end{equation}\n",
    "\n",
    "\n",
    "La solución analítica de $u(t)=e^{-t}$\n",
    "y $h=-u $"
   ]
  },
  {
   "cell_type": "markdown",
   "metadata": {},
   "source": [
    "#### Hacemos el vector de tiempo y escribimos la función $u(t)$"
   ]
  },
  {
   "cell_type": "code",
   "execution_count": 14,
   "metadata": {},
   "outputs": [],
   "source": [
    "dt = 0.2\n",
    "t = np.arange(0,2.5,dt)\n",
    "\n",
    "u = np.exp(-t)"
   ]
  },
  {
   "cell_type": "markdown",
   "metadata": {},
   "source": [
    "#### Integramos haciendo la diferenciación por derecha\n",
    "\\begin{equation}\n",
    "u(t_{n+1}) = u(t_{n}) + h(t_{n})  dt\n",
    "\\end{equation}\n",
    "\\begin{equation}\n",
    "= u(t_{n}) - u(t_{n})  dt \n",
    "\\end{equation}\n",
    "\\begin{equation}\n",
    "= u(t_{n})  (1 - dt)\n",
    "\\end{equation}"
   ]
  },
  {
   "cell_type": "code",
   "execution_count": 31,
   "metadata": {},
   "outputs": [],
   "source": [
    "u_d = np.zeros(len(u))\n",
    "\n",
    "u_d[0] = u[0]\n",
    "#h = -u\n",
    "for i in range(0,len(u)-1):  \n",
    "    u_d[i+1] = u_d[i] * (1. - dt)"
   ]
  },
  {
   "cell_type": "markdown",
   "metadata": {},
   "source": [
    "#### Integramos haciendo la diferenciación por izquierda\n",
    "\\begin{equation}\n",
    "u(t_{n+1}) = u(t_{n}) + h(t_{n+1})  dt\n",
    "\\end{equation}\n",
    "\\begin{equation}\n",
    "= u(t_{n}) - u(t_{n+1})  dt \n",
    "\\end{equation}\n",
    "\\begin{equation}\n",
    "= u(t_{n}) / (1 + dt)\n",
    "\\end{equation}\n"
   ]
  },
  {
   "cell_type": "code",
   "execution_count": 35,
   "metadata": {},
   "outputs": [],
   "source": [
    "u_i = np.zeros(len(u))\n",
    "\n",
    "u_i[0] = u[0]\n",
    "#h = -u\n",
    "for i in range(0,len(u)-1):  \n",
    "    u_i[i+1] = u_i[i]/(1. + dt)"
   ]
  },
  {
   "cell_type": "markdown",
   "metadata": {},
   "source": [
    "#### Integramos haciendo la diferenciación centrada\n",
    "\\begin{equation}\n",
    "u(t_{n+1}) = u(t_{n}) + \\dfrac{[h(t_{n}) + h(t_{n+1})]}{2} dt\n",
    "\\end{equation}\n",
    "\\begin{equation}\n",
    "= u(t_{n}) - \\dfrac{[u(t_{n}) + u(t_{n+1})]}{2} dt \n",
    "\\end{equation}\n",
    "\\begin{equation}\n",
    "= u(t_{n})\\dfrac{2-dt}{2+dt}\n",
    "\\end{equation}"
   ]
  },
  {
   "cell_type": "code",
   "execution_count": 45,
   "metadata": {},
   "outputs": [],
   "source": [
    "u_c = np.zeros(len(u))\n",
    "\n",
    "u_c[0] = u[0]\n",
    "#h = -u\n",
    "for i in range(0,len(u)-1):  \n",
    "    u_c[i+1] = u_c[i] * (2. - dt)/(2. + dt)"
   ]
  },
  {
   "cell_type": "code",
   "execution_count": 38,
   "metadata": {},
   "outputs": [
    {
     "data": {
      "text/plain": [
       "[<matplotlib.lines.Line2D at 0x7f7aade17dd0>]"
      ]
     },
     "execution_count": 38,
     "metadata": {},
     "output_type": "execute_result"
    },
    {
     "data": {
      "image/png": "[encoded data removed]",
      "text/plain": [
       "<Figure size 432x288 with 1 Axes>"
      ]
     },
     "metadata": {},
     "output_type": "display_data"
    }
   ],
   "source": [
    "plt.plot(t,u)\n",
    "plt.plot(t,u_d)\n",
    "plt.plot(t,u_i)\n",
    "plt.plot(t,u_c)"
   ]
  },
  {
   "cell_type": "markdown",
   "metadata": {},
   "source": [
    "#### Calculamos los errores"
   ]
  },
  {
   "cell_type": "code",
   "execution_count": 43,
   "metadata": {},
   "outputs": [],
   "source": [
    "error_d = (u_d - u)/u\n",
    "error_i = (u_i - u)/u\n",
    "error_c = (u_c - u)/u"
   ]
  },
  {
   "cell_type": "code",
   "execution_count": 44,
   "metadata": {},
   "outputs": [
    {
     "data": {
      "text/plain": [
       "[<matplotlib.lines.Line2D at 0x7f7aadc7c990>]"
      ]
     },
     "execution_count": 44,
     "metadata": {},
     "output_type": "execute_result"
    },
    {
     "data": {
      "image/png": "[encoded data removed]",
      "text/plain": [
       "<Figure size 432x288 with 1 Axes>"
      ]
     },
     "metadata": {},
     "output_type": "display_data"
    }
   ],
   "source": [
    "plt.plot(t,error_d)\n",
    "plt.plot(t,error_i)\n",
    "plt.plot(t,error_c)"
   ]
  },
  {
   "cell_type": "markdown",
   "metadata": {},
   "source": [
    "## Calculamos el W para distintos delta t"
   ]
  },
  {
   "cell_type": "code",
   "execution_count": 9,
   "metadata": {},
   "outputs": [],
   "source": [
    "dt = [0.2, 0.1, 0.05]"
   ]
  },
  {
   "cell_type": "markdown",
   "metadata": {},
   "source": [
    "#### W en t =1"
   ]
  },
  {
   "cell_type": "code",
   "execution_count": 10,
   "metadata": {},
   "outputs": [
    {
     "name": "stderr",
     "output_type": "stream",
     "text": [
      "/home/vcristiani/anaconda2/lib/python2.7/site-packages/ipykernel_launcher.py:12: MatplotlibDeprecationWarning: numpy.arange\n",
      "  if sys.path[0] == '':\n"
     ]
    },
    {
     "name": "stdout",
     "output_type": "stream",
     "text": [
      "5.150322693642528\n"
     ]
    },
    {
     "name": "stderr",
     "output_type": "stream",
     "text": [
      "/home/vcristiani/anaconda2/lib/python2.7/site-packages/ipykernel_launcher.py:38: MatplotlibDeprecationWarning: numpy.arange\n"
     ]
    },
    {
     "data": {
      "image/png": "[encoded data removed]",
      "text/plain": [
       "<Figure size 432x288 with 1 Axes>"
      ]
     },
     "metadata": {},
     "output_type": "display_data"
    }
   ],
   "source": [
    "# for k in (0,1,2):\n",
    "k=0\n",
    "vd   = 0.001\n",
    "t0   = 1.\n",
    "t1   = 3.\n",
    "dx   = 0.02\n",
    "aux  = int(2./dt[k])+1\n",
    "\n",
    "xmin = 0.5 - aux*dx\n",
    "xmax = 1. + aux*dx\n",
    "\n",
    "x = frange(xmin, xmax,dx)\n",
    "\n",
    "n = 1e6\n",
    "\n",
    "s0 = 0.\n",
    "s1 = 0.\n",
    "for i in range(1,int(n)):\n",
    "    q1 = np.sin(pi*i/2.)\n",
    "    q2 = np.sin(i*pi*x)\n",
    "    q3 = np.exp(-vd*t0*(pi*i)**2)\n",
    "    s0 = s0 + q1*q2*q3\n",
    "    \n",
    "    q4 = np.exp(-vd*t1*(pi*i)**2)\n",
    "    s1 = s1 + q1*q2*q4\n",
    "\n",
    "w0 = 2*s0\n",
    "w1 = 2*s1\n",
    "\n",
    "\n",
    "plt.plot(x,w1)\n",
    "# plt.plot(x,w0)\n",
    "\n",
    "'''Aca hacemos la integracion del tiempo'''\n",
    "a = vd*dt[k]/(dx**2)\n",
    "\n",
    "u = w0\n",
    "for j in frange(1,3,dt[k]):\n",
    "    for i in range(1,len(w0)-1):\n",
    "        u[i] = u[i] + a * (u[i-1] + u[i+1] -2*u[i])\n",
    "\n",
    "error = abs(u[aux: -aux-1]-w1[aux: -aux-1])/w1[aux: -aux-1]\n",
    "\n",
    "x = x[aux:-aux-1]\n",
    "\n",
    "plt.plot(x,u[aux: -aux-1])\n",
    "# plt.ylim(0,10)\n",
    "plt.xlim(0.5,1)\n",
    "\n",
    "print w1[11]"
   ]
  },
  {
   "cell_type": "code",
   "execution_count": 11,
   "metadata": {},
   "outputs": [
    {
     "data": {
      "text/plain": [
       "array([ 9.12388978e-02,  1.83732578e-01,  3.46130077e-01,  6.10013640e-01,\n",
       "        1.00574246e+00,  1.55124738e+00,  2.23832102e+00,  3.02141734e+00,\n",
       "        3.81545289e+00,  4.50742501e+00,  4.98147503e+00,  5.15032269e+00,\n",
       "        4.98147503e+00,  4.50742501e+00,  3.81545289e+00,  3.02141734e+00,\n",
       "        2.23832102e+00,  1.55124738e+00,  1.00574246e+00,  6.10013640e-01,\n",
       "        3.46130077e-01,  1.83732578e-01,  9.12388978e-02,  4.23858530e-02,\n",
       "        1.84208158e-02,  7.48934480e-03,  2.84856298e-03,  1.01357260e-03,\n",
       "        3.37389010e-04,  1.05064025e-04,  3.06072404e-05,  8.34144563e-06,\n",
       "        2.12669325e-06,  5.07220833e-07,  1.13037364e-07,  2.27826512e-08,\n",
       "       -2.55860546e-16, -2.27826520e-08, -1.13037366e-07, -5.07220833e-07,\n",
       "       -2.12669325e-06, -8.34144563e-06, -3.06072404e-05, -1.05064025e-04,\n",
       "       -3.37389010e-04, -1.01357260e-03, -2.84856298e-03, -7.48934480e-03])"
      ]
     },
     "execution_count": 11,
     "metadata": {},
     "output_type": "execute_result"
    }
   ],
   "source": [
    "w1"
   ]
  },
  {
   "cell_type": "code",
   "execution_count": 127,
   "metadata": {},
   "outputs": [
    {
     "data": {
      "text/plain": [
       "(0, 1)"
      ]
     },
     "execution_count": 127,
     "metadata": {},
     "output_type": "execute_result"
    },
    {
     "data": {
      "image/png": "[encoded data removed]",
      "text/plain": [
       "<matplotlib.figure.Figure at 0x7f6a98d40d90>"
      ]
     },
     "metadata": {},
     "output_type": "display_data"
    }
   ],
   "source": [
    "\n",
    "plt.plot(x,abs(u[aux: -aux-15]-w1[aux: -aux-15])/w1[aux: -aux-15])\n",
    "plt.ylim(0,1)"
   ]
  },
  {
   "cell_type": "code",
   "execution_count": 18,
   "metadata": {},
   "outputs": [
    {
     "data": {
      "text/plain": [
       "[<matplotlib.lines.Line2D at 0x7f6a9bdab390>]"
      ]
     },
     "execution_count": 18,
     "metadata": {},
     "output_type": "execute_result"
    },
    {
     "data": {
      "image/png": "[encoded data removed]",
      "text/plain": [
       "<matplotlib.figure.Figure at 0x7f6a9be10350>"
      ]
     },
     "metadata": {},
     "output_type": "display_data"
    }
   ],
   "source": [
    "plot(x,u)"
   ]
  },
  {
   "cell_type": "code",
   "execution_count": 34,
   "metadata": {},
   "outputs": [
    {
     "data": {
      "text/plain": [
       "[<matplotlib.lines.Line2D at 0x7f6a9baada10>]"
      ]
     },
     "execution_count": 34,
     "metadata": {},
     "output_type": "execute_result"
    },
    {
     "data": {
      "image/png": "[encoded data removed]",
      "text/plain": [
       "<matplotlib.figure.Figure at 0x7f6a9b965dd0>"
      ]
     },
     "metadata": {},
     "output_type": "display_data"
    }
   ],
   "source": [
    "error = abs(u - w)/w\n",
    "error = error[11:22]\n",
    "x = x[]\n",
    "print len(x)\n",
    "plt.plot(x,error)\n",
    "# plt.xlim(0.5,0.9)\n"
   ]
  },
  {
   "cell_type": "code",
   "execution_count": null,
   "metadata": {},
   "outputs": [],
   "source": []
  }
 ],
 "metadata": {
  "kernelspec": {
   "display_name": "Python 2",
   "language": "python",
   "name": "python2"
  },
  "language_info": {
   "codemirror_mode": {
    "name": "ipython",
    "version": 2
   },
   "file_extension": ".py",
   "mimetype": "text/x-python",
   "name": "python",
   "nbconvert_exporter": "python",
   "pygments_lexer": "ipython2",
   "version": "2.7.15"
  }
 },
 "nbformat": 4,
 "nbformat_minor": 2
}
