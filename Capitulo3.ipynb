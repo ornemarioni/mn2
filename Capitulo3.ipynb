{
 "cells": [
  {
   "cell_type": "code",
   "execution_count": 1,
   "metadata": {},
   "outputs": [
    {
     "name": "stdout",
     "output_type": "stream",
     "text": [
      "Populating the interactive namespace from numpy and matplotlib\n"
     ]
    }
   ],
   "source": [
    "%pylab inline"
   ]
  },
  {
   "cell_type": "markdown",
   "metadata": {},
   "source": [
    "## Figura 3.1\n",
    "\n",
    "Hacemos el problema de 2 cuerpos y calculamos el error segun el time step"
   ]
  },
  {
   "cell_type": "code",
   "execution_count": 2,
   "metadata": {},
   "outputs": [
    {
     "name": "stdout",
     "output_type": "stream",
     "text": [
      "30.382721393468877\n",
      "149578381237.93158 1.496e+11\n"
     ]
    }
   ],
   "source": [
    "G = 6.674*10**-11  # Unidades N*m^2/kg^2\n",
    "eps = 0.05      #softening \n",
    "N = 2\n",
    "\n",
    "e = 0.017     # excentricidad de la orbita\n",
    "a = 1.496*10**11        # semieje mayor\n",
    "p = a*(1-e)     #distancia al pericentro\n",
    "\n",
    "m = np.array([2*10**30, 6*10**24]) #masas\n",
    "\n",
    "mu = G *(m[0]+m[1])\n",
    "nn = np.sqrt(mu/a**3)\n",
    "\n",
    "vp = nn * a * np.sqrt((1+e)/(1-e)) #velocidad en el pericentro\n",
    "# vp=0.\n",
    "print vp/1000\n",
    "\n",
    "apo = a*(1+e)\n",
    "b = a * np.sqrt(1-e**2)\n",
    "print b, a"
   ]
  },
  {
   "cell_type": "code",
   "execution_count": 3,
   "metadata": {},
   "outputs": [
    {
     "name": "stdout",
     "output_type": "stream",
     "text": [
      "31467954.114104185\n"
     ]
    }
   ],
   "source": [
    "#periodo\n",
    "T = 2*pi/nn\n",
    "print T\n"
   ]
  },
  {
   "cell_type": "code",
   "execution_count": 4,
   "metadata": {},
   "outputs": [],
   "source": [
    "#posiciones y velocidades iniciales\n",
    "\n",
    "pos = np.array([[0.,0.,0.],[p,0.,0.]])\n",
    "\n",
    "vel = np.array([[0.,0.,0.],[0.,vp,0.]])\n"
   ]
  },
  {
   "cell_type": "code",
   "execution_count": 5,
   "metadata": {},
   "outputs": [
    {
     "name": "stdout",
     "output_type": "stream",
     "text": [
      "[[0.000000e+00 0.000000e+00 0.000000e+00]\n",
      " [1.470568e+11 0.000000e+00 0.000000e+00]]\n"
     ]
    },
    {
     "data": {
      "text/plain": [
       "[<matplotlib.lines.Line2D at 0x7f7210e8a190>]"
      ]
     },
     "execution_count": 5,
     "metadata": {},
     "output_type": "execute_result"
    },
    {
     "data": {
      "image/png": "[encoded data removed]",
      "text/plain": [
       "<Figure size 432x288 with 1 Axes>"
      ]
     },
     "metadata": {},
     "output_type": "display_data"
    }
   ],
   "source": [
    "print pos\n",
    "plt.plot(pos[:,0],pos[:,1],'o')"
   ]
  },
  {
   "cell_type": "code",
   "execution_count": 6,
   "metadata": {},
   "outputs": [],
   "source": [
    "#NOTA: EN integradores_modificados.f90 están las subrutinas que calculan:\n",
    "#-----> aceleraciones: aceleracion(eps,m,x,y,z,n,ax,ay,az)\n",
    "#-----> integrador tipo EULER: euler(eps,dt,nit,m,x,y,z,vx,vy,vz,ax,ay,az,n)\n",
    "#-----> Integrador tipo RUNGEKUTTA: rungek(eps,dt,nit,m,x,y,z,vx,vy,vz,ax,ay,az,n)\n",
    "#-----> Integrador tipo leapfrog KDK: kickdkick(eps,dt,nit,m,x,y,z,vx,vy,vz,ax,ay,az,n)\n",
    "#-----> Integrador tipo leapfrog DKD: driftkdrift(eps,dt,nit,m,x,y,z,vx,vy,vz,ax,ay,az,n)\n"
   ]
  },
  {
   "cell_type": "code",
   "execution_count": 7,
   "metadata": {},
   "outputs": [
    {
     "ename": "ImportError",
     "evalue": "/lib64/libc.so.6: version `GLIBC_2.14' not found (required by ./integradorespdc.so)",
     "output_type": "error",
     "traceback": [
      "\u001b[0;31m---------------------------------------------------------------------------\u001b[0m",
      "\u001b[0;31mImportError\u001b[0m                               Traceback (most recent call last)",
      "\u001b[0;32m<ipython-input-7-2689fe5b2af4>\u001b[0m in \u001b[0;36m<module>\u001b[0;34m()\u001b[0m\n\u001b[1;32m      1\u001b[0m \u001b[0;31m#################################\u001b[0m\u001b[0;34m\u001b[0m\u001b[0;34m\u001b[0m\u001b[0m\n\u001b[1;32m      2\u001b[0m \u001b[0;31m#Aca calculamos las aceleraciones con fortran\u001b[0m\u001b[0;34m\u001b[0m\u001b[0;34m\u001b[0m\u001b[0m\n\u001b[0;32m----> 3\u001b[0;31m \u001b[0;32mfrom\u001b[0m \u001b[0mintegradorespdc\u001b[0m \u001b[0;32mimport\u001b[0m \u001b[0;34m*\u001b[0m\u001b[0;34m\u001b[0m\u001b[0m\n\u001b[0m\u001b[1;32m      4\u001b[0m \u001b[0max\u001b[0m\u001b[0;34m,\u001b[0m\u001b[0may\u001b[0m\u001b[0;34m,\u001b[0m\u001b[0maz\u001b[0m \u001b[0;34m=\u001b[0m \u001b[0mintegradores_modificado\u001b[0m\u001b[0;34m.\u001b[0m\u001b[0maceleracion\u001b[0m\u001b[0;34m(\u001b[0m\u001b[0meps\u001b[0m\u001b[0;34m,\u001b[0m\u001b[0mm\u001b[0m\u001b[0;34m,\u001b[0m\u001b[0mpos\u001b[0m\u001b[0;34m[\u001b[0m\u001b[0;34m:\u001b[0m\u001b[0;34m,\u001b[0m\u001b[0;36m0\u001b[0m\u001b[0;34m]\u001b[0m\u001b[0;34m,\u001b[0m\u001b[0mpos\u001b[0m\u001b[0;34m[\u001b[0m\u001b[0;34m:\u001b[0m\u001b[0;34m,\u001b[0m\u001b[0;36m1\u001b[0m\u001b[0;34m]\u001b[0m\u001b[0;34m,\u001b[0m\u001b[0mpos\u001b[0m\u001b[0;34m[\u001b[0m\u001b[0;34m:\u001b[0m\u001b[0;34m,\u001b[0m\u001b[0;36m2\u001b[0m\u001b[0;34m]\u001b[0m\u001b[0;34m)\u001b[0m\u001b[0;34m\u001b[0m\u001b[0m\n",
      "\u001b[0;31mImportError\u001b[0m: /lib64/libc.so.6: version `GLIBC_2.14' not found (required by ./integradorespdc.so)"
     ]
    }
   ],
   "source": [
    "#################################\n",
    "#Aca calculamos las aceleraciones con fortran\n",
    "from integradorespdc import *\n",
    "ax,ay,az = integradores_modificado.aceleracion(eps,m,pos[:,0],pos[:,1],pos[:,2])"
   ]
  },
  {
   "cell_type": "markdown",
   "metadata": {},
   "source": [
    "### Acá definimos el paso y el numero de pasos"
   ]
  },
  {
   "cell_type": "code",
   "execution_count": 8,
   "metadata": {},
   "outputs": [],
   "source": [
    "tiempo = 100*3.15*10**7\n",
    "dt = [1*10**-6.5, 1*10**-6, 1*10**-5.5, 1*10**5., 1*10**-4.5, 1*10**-4., 1*10**-3, 1*10**-2.5, 1*10**-2]  #pasos\n",
    "nit = tiempo/dt[0] #numero de pasos"
   ]
  },
  {
   "cell_type": "markdown",
   "metadata": {},
   "source": [
    "# EULER"
   ]
  },
  {
   "cell_type": "code",
   "execution_count": 11,
   "metadata": {},
   "outputs": [
    {
     "data": {
      "text/plain": [
       "(array([0.000000e+00, 1.470568e+11], dtype=float32),\n",
       " array([0., 0.], dtype=float32),\n",
       " array([0., 0.], dtype=float32),\n",
       " array([0., 0.], dtype=float32),\n",
       " array([    0.  , 30382.72], dtype=float32),\n",
       " array([0., 0.], dtype=float32),\n",
       " array([ 1.1927473e-03, -3.9758246e+02], dtype=float32),\n",
       " array([0., 0.], dtype=float32),\n",
       " array([0., 0.], dtype=float32))"
      ]
     },
     "execution_count": 11,
     "metadata": {},
     "output_type": "execute_result"
    }
   ],
   "source": [
    "from integradorespdc import *\n",
    "# from testsinparalelo import *\n",
    "integradores_modificado.euler(eps,dt[0],nit,m,pos[:,0],pos[:,1],pos[:,2],vel[:,0],vel[:,1],vel[:,2],ax,ay,az)\n",
    "    \n"
   ]
  },
  {
   "cell_type": "code",
   "execution_count": 10,
   "metadata": {},
   "outputs": [
    {
     "ename": "IOError",
     "evalue": "/home/omarioni/mn2/_data/cap3/pos_0.dat not found.",
     "output_type": "error",
     "traceback": [
      "\u001b[0;31m---------------------------------------------------------------------------\u001b[0m",
      "\u001b[0;31mIOError\u001b[0m                                   Traceback (most recent call last)",
      "\u001b[0;32m<ipython-input-10-f592e4d4128c>\u001b[0m in \u001b[0;36m<module>\u001b[0;34m()\u001b[0m\n\u001b[1;32m      1\u001b[0m \u001b[0mpath\u001b[0m \u001b[0;34m=\u001b[0m \u001b[0;34m'/home/omarioni/mn2/_data/cap3/'\u001b[0m\u001b[0;34m\u001b[0m\u001b[0m\n\u001b[1;32m      2\u001b[0m \u001b[0mN\u001b[0m\u001b[0;34m=\u001b[0m\u001b[0;36m2\u001b[0m\u001b[0;34m\u001b[0m\u001b[0m\n\u001b[0;32m----> 3\u001b[0;31m \u001b[0mposf\u001b[0m \u001b[0;34m=\u001b[0m \u001b[0mnp\u001b[0m\u001b[0;34m.\u001b[0m\u001b[0mloadtxt\u001b[0m\u001b[0;34m(\u001b[0m\u001b[0mpath\u001b[0m\u001b[0;34m+\u001b[0m\u001b[0;34m'pos_0.dat'\u001b[0m\u001b[0;34m)\u001b[0m\u001b[0;34m\u001b[0m\u001b[0m\n\u001b[0m\u001b[1;32m      4\u001b[0m \u001b[0;34m\u001b[0m\u001b[0m\n\u001b[1;32m      5\u001b[0m \u001b[0mxf\u001b[0m \u001b[0;34m=\u001b[0m \u001b[0mposf\u001b[0m\u001b[0;34m[\u001b[0m\u001b[0;34m:\u001b[0m\u001b[0;34m,\u001b[0m\u001b[0;36m0\u001b[0m\u001b[0;34m:\u001b[0m\u001b[0mN\u001b[0m\u001b[0;34m]\u001b[0m\u001b[0;34m\u001b[0m\u001b[0m\n",
      "\u001b[0;32m/home/omarioni/.conda/envs/conda-env/lib/python2.7/site-packages/numpy/lib/npyio.pyc\u001b[0m in \u001b[0;36mloadtxt\u001b[0;34m(fname, dtype, comments, delimiter, converters, skiprows, usecols, unpack, ndmin, encoding)\u001b[0m\n\u001b[1;32m    924\u001b[0m             \u001b[0mfname\u001b[0m \u001b[0;34m=\u001b[0m \u001b[0mstr\u001b[0m\u001b[0;34m(\u001b[0m\u001b[0mfname\u001b[0m\u001b[0;34m)\u001b[0m\u001b[0;34m\u001b[0m\u001b[0m\n\u001b[1;32m    925\u001b[0m         \u001b[0;32mif\u001b[0m \u001b[0m_is_string_like\u001b[0m\u001b[0;34m(\u001b[0m\u001b[0mfname\u001b[0m\u001b[0;34m)\u001b[0m\u001b[0;34m:\u001b[0m\u001b[0;34m\u001b[0m\u001b[0m\n\u001b[0;32m--> 926\u001b[0;31m             \u001b[0mfh\u001b[0m \u001b[0;34m=\u001b[0m \u001b[0mnp\u001b[0m\u001b[0;34m.\u001b[0m\u001b[0mlib\u001b[0m\u001b[0;34m.\u001b[0m\u001b[0m_datasource\u001b[0m\u001b[0;34m.\u001b[0m\u001b[0mopen\u001b[0m\u001b[0;34m(\u001b[0m\u001b[0mfname\u001b[0m\u001b[0;34m,\u001b[0m \u001b[0;34m'rt'\u001b[0m\u001b[0;34m,\u001b[0m \u001b[0mencoding\u001b[0m\u001b[0;34m=\u001b[0m\u001b[0mencoding\u001b[0m\u001b[0;34m)\u001b[0m\u001b[0;34m\u001b[0m\u001b[0m\n\u001b[0m\u001b[1;32m    927\u001b[0m             \u001b[0mfencoding\u001b[0m \u001b[0;34m=\u001b[0m \u001b[0mgetattr\u001b[0m\u001b[0;34m(\u001b[0m\u001b[0mfh\u001b[0m\u001b[0;34m,\u001b[0m \u001b[0;34m'encoding'\u001b[0m\u001b[0;34m,\u001b[0m \u001b[0;34m'latin1'\u001b[0m\u001b[0;34m)\u001b[0m\u001b[0;34m\u001b[0m\u001b[0m\n\u001b[1;32m    928\u001b[0m             \u001b[0mfh\u001b[0m \u001b[0;34m=\u001b[0m \u001b[0miter\u001b[0m\u001b[0;34m(\u001b[0m\u001b[0mfh\u001b[0m\u001b[0;34m)\u001b[0m\u001b[0;34m\u001b[0m\u001b[0m\n",
      "\u001b[0;32m/home/omarioni/.conda/envs/conda-env/lib/python2.7/site-packages/numpy/lib/_datasource.pyc\u001b[0m in \u001b[0;36mopen\u001b[0;34m(path, mode, destpath, encoding, newline)\u001b[0m\n\u001b[1;32m    260\u001b[0m \u001b[0;34m\u001b[0m\u001b[0m\n\u001b[1;32m    261\u001b[0m     \u001b[0mds\u001b[0m \u001b[0;34m=\u001b[0m \u001b[0mDataSource\u001b[0m\u001b[0;34m(\u001b[0m\u001b[0mdestpath\u001b[0m\u001b[0;34m)\u001b[0m\u001b[0;34m\u001b[0m\u001b[0m\n\u001b[0;32m--> 262\u001b[0;31m     \u001b[0;32mreturn\u001b[0m \u001b[0mds\u001b[0m\u001b[0;34m.\u001b[0m\u001b[0mopen\u001b[0m\u001b[0;34m(\u001b[0m\u001b[0mpath\u001b[0m\u001b[0;34m,\u001b[0m \u001b[0mmode\u001b[0m\u001b[0;34m,\u001b[0m \u001b[0mencoding\u001b[0m\u001b[0;34m=\u001b[0m\u001b[0mencoding\u001b[0m\u001b[0;34m,\u001b[0m \u001b[0mnewline\u001b[0m\u001b[0;34m=\u001b[0m\u001b[0mnewline\u001b[0m\u001b[0;34m)\u001b[0m\u001b[0;34m\u001b[0m\u001b[0m\n\u001b[0m\u001b[1;32m    263\u001b[0m \u001b[0;34m\u001b[0m\u001b[0m\n\u001b[1;32m    264\u001b[0m \u001b[0;34m\u001b[0m\u001b[0m\n",
      "\u001b[0;32m/home/omarioni/.conda/envs/conda-env/lib/python2.7/site-packages/numpy/lib/_datasource.pyc\u001b[0m in \u001b[0;36mopen\u001b[0;34m(self, path, mode, encoding, newline)\u001b[0m\n\u001b[1;32m    616\u001b[0m                                       encoding=encoding, newline=newline)\n\u001b[1;32m    617\u001b[0m         \u001b[0;32melse\u001b[0m\u001b[0;34m:\u001b[0m\u001b[0;34m\u001b[0m\u001b[0m\n\u001b[0;32m--> 618\u001b[0;31m             \u001b[0;32mraise\u001b[0m \u001b[0mIOError\u001b[0m\u001b[0;34m(\u001b[0m\u001b[0;34m\"%s not found.\"\u001b[0m \u001b[0;34m%\u001b[0m \u001b[0mpath\u001b[0m\u001b[0;34m)\u001b[0m\u001b[0;34m\u001b[0m\u001b[0m\n\u001b[0m\u001b[1;32m    619\u001b[0m \u001b[0;34m\u001b[0m\u001b[0m\n\u001b[1;32m    620\u001b[0m \u001b[0;34m\u001b[0m\u001b[0m\n",
      "\u001b[0;31mIOError\u001b[0m: /home/omarioni/mn2/_data/cap3/pos_0.dat not found."
     ]
    }
   ],
   "source": [
    "path = '/home/omarioni/mn2/_data/cap3/'\n",
    "N=2\n",
    "posf = np.loadtxt(path+'pos_0.dat')\n",
    "\n",
    "xf = posf[:,0:N]\n",
    "yf = posf[:,N:2*N]\n",
    "zf = posf[:,2*N:3*N]\n",
    "\n",
    "velf = np.loadtxt(path+'vel_0.dat')\n",
    "\n",
    "vxf = velf[:,0:N]\n",
    "vyf = velf[:,N:2*N]\n",
    "vzf = velf[:,2*N:3*N]\n",
    "\n",
    "print shape(xf)"
   ]
  },
  {
   "cell_type": "code",
   "execution_count": null,
   "metadata": {},
   "outputs": [],
   "source": [
    "from __future__ import unicode_literals\n",
    "\n",
    "matplotlib.rcParams['text.usetex'] = True\n",
    "matplotlib.rcParams['text.latex.unicode'] = True\n",
    "\n",
    "fig=plt.figure(1, figsize=(8,8))\n",
    "fig.subplots_adjust(bottom=0.15, left =0.16, right = 0.95, top = 0.95)\n",
    "ax=fig.add_subplot(111)\n",
    "ax.plot(xf[:1000,1],yf[:1000,1],'.k', markersize=1)\n",
    "ax.plot(xf[:1000,0],yf[:1000,0],'.r')\n",
    "# ax.plot(xf[-1,1],yf[-1,1],'.b')\n",
    "ax.set_xlim(-apo-10,p+10)\n",
    "ax.set_ylim(-a-10,a+10)\n",
    "ax.minorticks_on()\n",
    "ax.tick_params( labelsize=24)\n",
    "ax.tick_params('both', length=3, width=1.2,which='minor', direction='in', right='on',top='on')\n",
    "ax.tick_params('both', length=6, width=1.2,which='major', direction='in', right='on',top='on') \n",
    "ax.set_xlabel(r'$x\\:[kpc]$', fontsize=26)\n",
    "ax.set_ylabel(r'$y\\:[kpc]$',fontsize=26)\n",
    "# fig.savefig('/home/ornela/Dropbox/AAA_2017/escrito/BAAA_2018_art/fig_05.pdf', dpi = 100)\n",
    "plt.show()"
   ]
  },
  {
   "cell_type": "code",
   "execution_count": null,
   "metadata": {},
   "outputs": [],
   "source": [
    "from energia import *\n",
    "eps=0.9\n",
    "e_pot = np.zeros([1+nit/10,N])\n",
    "\n",
    "for i in np.arange(1+nit/10):\n",
    "    e_pot[i] = energia.epot(eps,m,xf[i,:],yf[i,:],zf[i,:])\n"
   ]
  },
  {
   "cell_type": "code",
   "execution_count": null,
   "metadata": {},
   "outputs": [],
   "source": [
    "U = np.sum(e_pot,axis =1)\n",
    "\n",
    "print shape(U)\n",
    "\n",
    "K = (1/2.) * m * (vxf**2 + vyf**2 + vzf**2)\n",
    "\n",
    "K = np.sum(K,axis=1)\n",
    "print shape(K)\n",
    "\n",
    "E = K - 0.5*U\n",
    "\n",
    "dE = (E - E[0])/abs(E[0])\n",
    "time = dt * np.arange(10,nit+20,10) \n",
    "print shape(time)"
   ]
  },
  {
   "cell_type": "code",
   "execution_count": null,
   "metadata": {},
   "outputs": [],
   "source": [
    "from __future__ import unicode_literals\n",
    "\n",
    "matplotlib.rcParams['text.usetex'] = True\n",
    "matplotlib.rcParams['text.latex.unicode'] = True\n",
    "\n",
    "fig=plt.figure(1, figsize=(8,8))\n",
    "fig.subplots_adjust(bottom=0.15, left =0.16, right = 0.95, top = 0.95)\n",
    "ax=fig.add_subplot(111)\n",
    "ax.plot(time,dE,'.k', markersize=2)\n",
    "ax.set_xlim(-1,1)\n",
    "# ax.set_ylim(-0.2,0.2)\n",
    "ax.minorticks_on()\n",
    "ax.tick_params( labelsize=24)\n",
    "ax.tick_params('both', length=3, width=1.2,which='minor', direction='in', right='on',top='on')\n",
    "ax.tick_params('both', length=6, width=1.2,which='major', direction='in', right='on',top='on') \n",
    "ax.set_ylabel(r'$(E-E_{0})/|E_{0}|$', fontsize=26)\n",
    "ax.set_xlabel(r'$Time\\:[Gyr]$',fontsize=26)\n",
    "# fig.savefig('/home/ornela/Dropbox/AAA_2017/escrito/BAAA_2018_art/fig_05.pdf', dpi = 100)\n",
    "plt.show()"
   ]
  },
  {
   "cell_type": "code",
   "execution_count": null,
   "metadata": {},
   "outputs": [],
   "source": [
    "from __future__ import unicode_literals\n",
    "\n",
    "matplotlib.rcParams['text.usetex'] = True\n",
    "matplotlib.rcParams['text.latex.unicode'] = True\n",
    "\n",
    "fig=plt.figure(1, figsize=(8,8))\n",
    "fig.subplots_adjust(bottom=0.15, left =0.16, right = 0.95, top = 0.95)\n",
    "ax=fig.add_subplot(111)\n",
    "ax.plot(time,E,'.k', markersize=2)\n",
    "ax.plot(time,K,'.r', markersize=2)\n",
    "ax.plot(time,-U,'.b', markersize=2)\n",
    "# ax.set_xlim(-apo-10,p+10)\n",
    "# ax.set_ylim(-0.2,0.2)\n",
    "ax.minorticks_on()\n",
    "ax.tick_params( labelsize=24)\n",
    "ax.tick_params('both', length=3, width=1.2,which='minor', direction='in', right='on',top='on')\n",
    "ax.tick_params('both', length=6, width=1.2,which='major', direction='in', right='on',top='on') \n",
    "ax.set_ylabel(r'$(E-E_{0})/|E_{0}|$', fontsize=26)\n",
    "ax.set_xlabel(r'$Time\\:[Gyr]$',fontsize=26)\n",
    "# fig.savefig('/home/ornela/Dropbox/AAA_2017/escrito/BAAA_2018_art/fig_05.pdf', dpi = 100)\n",
    "plt.show()"
   ]
  },
  {
   "cell_type": "markdown",
   "metadata": {},
   "source": [
    "#### Vamos a integrar la ec diferencial (3.24) del libro con los diferentes integradores."
   ]
  },
  {
   "cell_type": "code",
   "execution_count": 2,
   "metadata": {},
   "outputs": [],
   "source": [
    "def f(x,y):\n",
    "    f = np.sqrt(x + y/4.)\n",
    "    return f\n"
   ]
  },
  {
   "cell_type": "code",
   "execution_count": 3,
   "metadata": {},
   "outputs": [],
   "source": [
    "x1 = 1.\n",
    "y1 = 1.\n",
    "x2 = 2.\n",
    "dx = x2 - x1\n"
   ]
  },
  {
   "cell_type": "markdown",
   "metadata": {},
   "source": [
    "#### Euler"
   ]
  },
  {
   "cell_type": "code",
   "execution_count": 8,
   "metadata": {},
   "outputs": [
    {
     "name": "stdout",
     "output_type": "stream",
     "text": [
      "2.118033988749895\n"
     ]
    }
   ],
   "source": [
    "y2 = y1 + f(x1,y1)*dx\n",
    "\n",
    "print y2"
   ]
  },
  {
   "cell_type": "markdown",
   "metadata": {},
   "source": [
    "#### Runge - Kutta de 2º orden"
   ]
  },
  {
   "cell_type": "code",
   "execution_count": 27,
   "metadata": {},
   "outputs": [
    {
     "name": "stdout",
     "output_type": "stream",
     "text": [
      "2.354238425359342\n"
     ]
    }
   ],
   "source": [
    "h = dx\n",
    "\n",
    "k1 = f(x1, y1)\n",
    "k2 = f(x1+h, y1 + k1*h)\n",
    "y2 = y1 + h*(k1+k2)/2.\n",
    "print  y2\n"
   ]
  },
  {
   "cell_type": "markdown",
   "metadata": {},
   "source": [
    "#### Método del punto medio o Euler modificado (así esta en el libro)"
   ]
  },
  {
   "cell_type": "code",
   "execution_count": 28,
   "metadata": {},
   "outputs": [
    {
     "name": "stdout",
     "output_type": "stream",
     "text": [
      "2.3746833266588117\n"
     ]
    }
   ],
   "source": [
    "h = dx\n",
    "\n",
    "k1 = h*f(x1, y1)\n",
    "y2 = y1 + h*f(x1 + h/2., y1 + k1/2.)\n",
    "print  y2"
   ]
  },
  {
   "cell_type": "markdown",
   "metadata": {},
   "source": [
    "#### Runge - Kutta de 4º orden"
   ]
  },
  {
   "cell_type": "code",
   "execution_count": 10,
   "metadata": {},
   "outputs": [
    {
     "name": "stdout",
     "output_type": "stream",
     "text": [
      "2.3752325972431034\n"
     ]
    }
   ],
   "source": [
    "k1 = f(x1, y1)\n",
    "k2 = f(x1 + dx*0.5, y1 + k1*dx*0.5)\n",
    "k3 = f(x1 + dx*0.5, y1 + k2*dx*0.5)\n",
    "k4 = f(x1 + dx, y1 + k3*dx)\n",
    "    \n",
    "y2 = y1 + dx*(k1/6. + k2/3. + k3/3. + k4/6.)\n",
    "\n",
    "print y2    "
   ]
  },
  {
   "cell_type": "code",
   "execution_count": null,
   "metadata": {},
   "outputs": [],
   "source": []
  }
 ],
 "metadata": {
  "kernelspec": {
   "display_name": "Python 2",
   "language": "python",
   "name": "python2"
  },
  "language_info": {
   "codemirror_mode": {
    "name": "ipython",
    "version": 2
   },
   "file_extension": ".py",
   "mimetype": "text/x-python",
   "name": "python",
   "nbconvert_exporter": "python",
   "pygments_lexer": "ipython2",
   "version": "2.7.15"
  }
 },
 "nbformat": 4,
 "nbformat_minor": 2
}
