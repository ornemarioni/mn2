{
 "cells": [
  {
   "cell_type": "code",
   "execution_count": 1,
   "metadata": {},
   "outputs": [
    {
     "name": "stdout",
     "output_type": "stream",
     "text": [
      "Populating the interactive namespace from numpy and matplotlib\n"
     ]
    }
   ],
   "source": [
    "%pylab inline"
   ]
  },
  {
   "cell_type": "markdown",
   "metadata": {},
   "source": [
    "## Figura 3.1\n",
    "\n",
    "Hacemos el problema de 2 cuerpos y calculamos el error segun el time step"
   ]
  },
  {
   "cell_type": "code",
   "execution_count": 7,
   "metadata": {},
   "outputs": [
    {
     "name": "stdout",
     "output_type": "stream",
     "text": [
      "30.382721393468877\n",
      "149578381237.93158 1.496e+11\n"
     ]
    }
   ],
   "source": [
    "G = 6.674e-11  # Unidades N*m^2/kg^2\n",
    "eps = 0.05      #softening \n",
    "N = 2\n",
    "\n",
    "e = 0.017     # excentricidad de la orbita\n",
    "a = 1.496e11        # semieje mayor\n",
    "p = a*(1-e)     #distancia al pericentro\n",
    "\n",
    "m = np.array([2e30, 6e24]) #masas\n",
    "\n",
    "mu = G *(m[0]+m[1])\n",
    "nn = np.sqrt(mu/a**3)\n",
    "\n",
    "vp = nn * a * np.sqrt((1+e)/(1-e)) #velocidad en el pericentro\n",
    "# vp=0.\n",
    "print vp/1000\n",
    "\n",
    "apo = a*(1+e)\n",
    "b = a * np.sqrt(1-e**2)\n",
    "print b, a"
   ]
  },
  {
   "cell_type": "code",
   "execution_count": 8,
   "metadata": {},
   "outputs": [
    {
     "name": "stdout",
     "output_type": "stream",
     "text": [
      "31467954.114104185\n"
     ]
    }
   ],
   "source": [
    "#periodo\n",
    "T = 2*pi/nn\n",
    "print T\n"
   ]
  },
  {
   "cell_type": "code",
   "execution_count": 9,
   "metadata": {},
   "outputs": [],
   "source": [
    "#posiciones y velocidades iniciales\n",
    "\n",
    "pos = np.array([[0.,0.,0.],[p,0.,0.]])\n",
    "\n",
    "vel = np.array([[0.,0.,0.],[0.,vp,0.]])\n"
   ]
  },
  {
   "cell_type": "code",
   "execution_count": 5,
   "metadata": {},
   "outputs": [
    {
     "name": "stdout",
     "output_type": "stream",
     "text": [
      "[[0.000000e+00 0.000000e+00 0.000000e+00]\n",
      " [1.470568e+11 0.000000e+00 0.000000e+00]]\n"
     ]
    },
    {
     "data": {
      "text/plain": [
       "[<matplotlib.lines.Line2D at 0x7f0615278710>]"
      ]
     },
     "execution_count": 5,
     "metadata": {},
     "output_type": "execute_result"
    },
    {
     "data": {
      "image/png": "[encoded data removed]",
      "text/plain": [
       "<Figure size 432x288 with 1 Axes>"
      ]
     },
     "metadata": {
      "needs_background": "light"
     },
     "output_type": "display_data"
    }
   ],
   "source": [
    "print pos\n",
    "plt.plot(pos[:,0],pos[:,1],'o')"
   ]
  },
  {
   "cell_type": "code",
   "execution_count": 6,
   "metadata": {},
   "outputs": [],
   "source": [
    "#NOTA: EN integradores_modificados.f90 están las subrutinas que calculan:\n",
    "#-----> aceleraciones: aceleracion(eps,m,x,y,z,n,ax,ay,az)\n",
    "#-----> integrador tipo EULER: euler(eps,dt,nit,m,x,y,z,vx,vy,vz,ax,ay,az,n)\n",
    "#-----> Integrador tipo RUNGEKUTTA: rungek(eps,dt,nit,m,x,y,z,vx,vy,vz,ax,ay,az,n)\n",
    "#-----> Integrador tipo leapfrog KDK: kickdkick(eps,dt,nit,m,x,y,z,vx,vy,vz,ax,ay,az,n)\n",
    "#-----> Integrador tipo leapfrog DKD: driftkdrift(eps,dt,nit,m,x,y,z,vx,vy,vz,ax,ay,az,n)\n"
   ]
  },
  {
   "cell_type": "code",
   "execution_count": 6,
   "metadata": {},
   "outputs": [
    {
     "name": "stdout",
     "output_type": "stream",
     "text": [
      "[ 1.8516854e-08 -6.1722849e-03] [0. 0.] [0. 0.]\n"
     ]
    }
   ],
   "source": [
    "#Aca calculamos las aceleraciones con fortran\n",
    "from ipdc import *\n",
    "ax,ay,az = integradores.aceleracion(eps,m,pos[:,0],pos[:,1],pos[:,2])\n",
    "print ax, ay, az"
   ]
  },
  {
   "cell_type": "markdown",
   "metadata": {},
   "source": [
    "### Acá definimos el paso y el numero de pasos"
   ]
  },
  {
   "cell_type": "code",
   "execution_count": 3,
   "metadata": {},
   "outputs": [
    {
     "name": "stdout",
     "output_type": "stream",
     "text": [
      "[    10000     31622    100000   1000000   3162277  10000000  31622776\n",
      " 100000000 316227766]\n",
      "[1.00000000e-02 3.16227766e-03 1.00000000e-03 1.00000000e-04\n",
      " 3.16227766e-05 1.00000000e-05 3.16227766e-06 1.00000000e-06\n",
      " 3.16227766e-07]\n"
     ]
    }
   ],
   "source": [
    "tiempo = 100.\n",
    "dt = np.array([1e-2, 10**-2.5, 1e-3, 1e-4, 10**-4.5, 1e-5, 10**-5.5, 1e-6, 10**-6.5]) #pasos\n",
    "nit = np.int_(tiempo/dt) #numero de pasos\n",
    "print nit\n",
    "print dt"
   ]
  },
  {
   "cell_type": "markdown",
   "metadata": {},
   "source": [
    "#### Integramos desde el programa fig3-1.py y obtenemos el archivo salida.dat donde están las posiciones y velocidades de las partículas al final de la integración"
   ]
  },
  {
   "cell_type": "code",
   "execution_count": 46,
   "metadata": {},
   "outputs": [
    {
     "name": "stdout",
     "output_type": "stream",
     "text": [
      "(18,)\n"
     ]
    }
   ],
   "source": [
    "path = '/home/omarioni/mn2/_data/cap3/'\n",
    "N=2\n",
    "data = np.loadtxt(path+'salida.dat')\n",
    "\n",
    "xf = data[:,0]\n",
    "yf = data[:,1]\n",
    "zf = data[:,2]\n",
    "\n",
    "vxf = data[:,3]\n",
    "vyf = data[:,4]\n",
    "vzf = data[:,5]\n",
    "\n",
    "print shape(xf)"
   ]
  },
  {
   "cell_type": "code",
   "execution_count": 39,
   "metadata": {},
   "outputs": [
    {
     "name": "stdout",
     "output_type": "stream",
     "text": [
      "(2,)\n"
     ]
    }
   ],
   "source": [
    "path = '/home/omarioni/mn2/_data/cap3/'\n",
    "N=2\n",
    "data = np.loadtxt(path+'salida_0.dat')\n",
    "\n",
    "xf = data[:,0]\n",
    "yf = data[:,1]\n",
    "zf = data[:,2]\n",
    "\n",
    "vxf = data[:,3]\n",
    "vyf = data[:,4]\n",
    "vzf = data[:,5]\n",
    "\n",
    "print shape(xf)"
   ]
  },
  {
   "cell_type": "code",
   "execution_count": 47,
   "metadata": {},
   "outputs": [
    {
     "name": "stdout",
     "output_type": "stream",
     "text": [
      "[5.32918206e+33 5.32918206e+33 4.90169980e+33 4.90169980e+33\n",
      " 5.45559863e+33 5.45559863e+33 5.43916638e+33 5.43916638e+33\n",
      " 5.43312058e+33 5.43312058e+33 5.42439413e+33 5.42439413e+33\n",
      " 5.42977098e+33 5.42977098e+33 5.43747597e+33 5.43747597e+33\n",
      " 5.45938772e+33 5.45938772e+33]\n"
     ]
    }
   ],
   "source": [
    "from energiafig3 import *\n",
    "eps=0\n",
    "e_pot = np.zeros(len(xf))\n",
    "\n",
    "for i in range(0,len(xf), N):\n",
    "    e_pot[i:N+i] = energia.epot(eps,m,xf[i:N+i],yf[i:N+i],zf[i:N+i])\n",
    "\n",
    "print e_pot\n"
   ]
  },
  {
   "cell_type": "code",
   "execution_count": 40,
   "metadata": {},
   "outputs": [
    {
     "name": "stdout",
     "output_type": "stream",
     "text": [
      "[5.32816723e+33 5.32816723e+33]\n"
     ]
    }
   ],
   "source": [
    "from energiafig3 import *\n",
    "eps=0\n",
    "e_pot = energia.epot(eps,m,xf,yf,zf)\n",
    "\n",
    "print e_pot\n"
   ]
  },
  {
   "cell_type": "code",
   "execution_count": 41,
   "metadata": {},
   "outputs": [
    {
     "name": "stdout",
     "output_type": "stream",
     "text": [
      "[5.44605913e+33 5.44605913e+33]\n"
     ]
    }
   ],
   "source": [
    "from energiafig3 import *\n",
    "eps=0\n",
    "N=2\n",
    "e_pot0 = energia.epot(eps,m,pos[:,0],pos[:,1],pos[:,2])\n",
    "\n",
    "print e_pot0"
   ]
  },
  {
   "cell_type": "code",
   "execution_count": 48,
   "metadata": {},
   "outputs": [],
   "source": [
    "U = np.zeros(len(xf)/N)\n",
    "K = np.zeros(len(xf)/N)\n",
    "j=0\n",
    "\n",
    "for i in range(0,len(xf),N):\n",
    "    \n",
    "    U[j] = np.sum(e_pot[i:i+N])\n",
    "\n",
    "    K_ = (1/2.) * m * (vxf[i:i+N]**2 + vyf[i:i+N]**2 + vzf[i:i+N]**2)\n",
    "    K[j] = np.sum(K_)\n",
    "    \n",
    "    j = j + 1\n",
    "    \n",
    "E = K - 0.5*U\n",
    "\n",
    "U0 = np.sum(e_pot0)\n",
    "K0 = np.sum( (1/2.) * m * (vel[:,0]**2 + vel[:,1]**2 + vel[:,2]**2))\n",
    "E0 = K0 - 0.5*U0\n",
    "\n",
    "dEr = abs((E - E0)/E0)\n"
   ]
  },
  {
   "cell_type": "code",
   "execution_count": 42,
   "metadata": {},
   "outputs": [],
   "source": [
    "U = np.sum(e_pot)\n",
    "\n",
    "K_ = (1/2.) * m * (vxf**2 + vyf**2 + vzf**2)\n",
    "K= np.sum(K_)\n",
    "\n",
    "E = K - 0.5*U\n",
    "\n",
    "U0 = np.sum(e_pot0)\n",
    "K0 = np.sum( (1/2.) * m * (vel[:,0]**2 + vel[:,1]**2 + vel[:,2]**2))\n",
    "E0 = K0 - 0.5*U0\n",
    "\n",
    "dE = abs((E - E0)/E0)\n"
   ]
  },
  {
   "cell_type": "code",
   "execution_count": 43,
   "metadata": {},
   "outputs": [
    {
     "name": "stdout",
     "output_type": "stream",
     "text": [
      "-3.6564368097923463\n",
      "0.0002205785056602009\n"
     ]
    }
   ],
   "source": [
    "print np.log10(dE)\n",
    "print dE"
   ]
  },
  {
   "cell_type": "code",
   "execution_count": 49,
   "metadata": {},
   "outputs": [
    {
     "data": {
      "image/png": "[encoded data removed]",
      "text/plain": [
       "<Figure size 576x576 with 1 Axes>"
      ]
     },
     "metadata": {
      "needs_background": "light"
     },
     "output_type": "display_data"
    }
   ],
   "source": [
    "from __future__ import unicode_literals\n",
    "\n",
    "matplotlib.rcParams['text.usetex'] = True\n",
    "matplotlib.rcParams['text.latex.unicode'] = True\n",
    "\n",
    "fig=plt.figure(1, figsize=(8,8))\n",
    "fig.subplots_adjust(bottom=0.15, left =0.16, right = 0.95, top = 0.95)\n",
    "ax=fig.add_subplot(111)\n",
    "\n",
    "ax.plot(np.log10(1e-2),np.log10(dE),'.r', markersize=20)\n",
    "ax.plot(np.log10(dt),np.log10(dEr),'.k', markersize=10)\n",
    "ax.minorticks_on()\n",
    "ax.tick_params( labelsize=24)\n",
    "ax.tick_params('both', length=3, width=1.2,which='minor', direction='in', right='on',top='on')\n",
    "ax.tick_params('both', length=6, width=1.2,which='major', direction='in', right='on',top='on') \n",
    "ax.set_ylabel(r'$\\mathrm{|E-E_{0}|/|E_{0}|}$', fontsize=26)\n",
    "ax.set_xlabel(r'$\\mathrm{Time\\:[Gyr]}$',fontsize=26)\n",
    "# fig.savefig('/home/ornela/Dropbox/AAA_2017/escrito/BAAA_2018_art/fig_05.pdf', dpi = 100)\n",
    "plt.show()"
   ]
  },
  {
   "cell_type": "code",
   "execution_count": 38,
   "metadata": {},
   "outputs": [
    {
     "data": {
      "image/png": "[encoded data removed]",
      "text/plain": [
       "<Figure size 576x576 with 1 Axes>"
      ]
     },
     "metadata": {
      "needs_background": "light"
     },
     "output_type": "display_data"
    }
   ],
   "source": [
    "from __future__ import unicode_literals\n",
    "\n",
    "matplotlib.rcParams['text.usetex'] = True\n",
    "matplotlib.rcParams['text.latex.unicode'] = True\n",
    "\n",
    "fig=plt.figure(1, figsize=(8,8))\n",
    "fig.subplots_adjust(bottom=0.15, left =0.16, right = 0.95, top = 0.95)\n",
    "ax=fig.add_subplot(111)\n",
    "\n",
    "ax.plot(np.log10(dt),abs((E-E0)/E0),'.k', markersize=10)\n",
    "# ax.plot(np.log10(dt),U/2.,'.b', markersize=10)\n",
    "# ax.plot(np.log10(dt),K,'.r', markersize=10)\n",
    "# ax.plot(np.log10(dt[1]),E0,'.g', markersize=10)\n",
    "# ax.plot(np.log10(dt[1]),K0,'.g', markersize=10)\n",
    "# ax.plot(np.log10(dt[1]),U0/2,'.g', markersize=10)\n",
    "\n",
    "ax.minorticks_on()\n",
    "ax.tick_params( labelsize=24)\n",
    "ax.tick_params('both', length=3, width=1.2,which='minor', direction='in', right='on',top='on')\n",
    "ax.tick_params('both', length=6, width=1.2,which='major', direction='in', right='on',top='on') \n",
    "ax.set_ylabel(r'$\\mathrm{|E-E_{0}|/|E_{0}|}$', fontsize=26)\n",
    "ax.set_xlabel(r'$\\mathrm{Time\\:[Gyr]}$',fontsize=26)\n",
    "# fig.savefig('/home/ornela/Dropbox/AAA_2017/escrito/BAAA_2018_art/fig_05.pdf', dpi = 100)\n",
    "plt.show()"
   ]
  },
  {
   "cell_type": "markdown",
   "metadata": {},
   "source": [
    "## Vamos a integrar la ec diferencial (3.24) del libro con los diferentes integradores."
   ]
  },
  {
   "cell_type": "code",
   "execution_count": 2,
   "metadata": {},
   "outputs": [],
   "source": [
    "def f(x,y):\n",
    "    f = np.sqrt(x + y/4.)\n",
    "    return f\n"
   ]
  },
  {
   "cell_type": "code",
   "execution_count": 3,
   "metadata": {},
   "outputs": [],
   "source": [
    "x1 = 1.\n",
    "y1 = 1.\n",
    "x2 = 2.\n",
    "dx = x2 - x1\n"
   ]
  },
  {
   "cell_type": "markdown",
   "metadata": {},
   "source": [
    "#### Euler"
   ]
  },
  {
   "cell_type": "code",
   "execution_count": 8,
   "metadata": {},
   "outputs": [
    {
     "name": "stdout",
     "output_type": "stream",
     "text": [
      "2.118033988749895\n"
     ]
    }
   ],
   "source": [
    "y2 = y1 + f(x1,y1)*dx\n",
    "\n",
    "print y2"
   ]
  },
  {
   "cell_type": "markdown",
   "metadata": {},
   "source": [
    "#### Runge - Kutta de 2º orden"
   ]
  },
  {
   "cell_type": "code",
   "execution_count": 27,
   "metadata": {},
   "outputs": [
    {
     "name": "stdout",
     "output_type": "stream",
     "text": [
      "2.354238425359342\n"
     ]
    }
   ],
   "source": [
    "h = dx\n",
    "\n",
    "k1 = f(x1, y1)\n",
    "k2 = f(x1+h, y1 + k1*h)\n",
    "y2 = y1 + h*(k1+k2)/2.\n",
    "print  y2\n"
   ]
  },
  {
   "cell_type": "markdown",
   "metadata": {},
   "source": [
    "#### Método del punto medio o Euler modificado (así esta en el libro)"
   ]
  },
  {
   "cell_type": "code",
   "execution_count": 28,
   "metadata": {},
   "outputs": [
    {
     "name": "stdout",
     "output_type": "stream",
     "text": [
      "2.3746833266588117\n"
     ]
    }
   ],
   "source": [
    "h = dx\n",
    "\n",
    "k1 = h*f(x1, y1)\n",
    "y2 = y1 + h*f(x1 + h/2., y1 + k1/2.)\n",
    "print  y2"
   ]
  },
  {
   "cell_type": "markdown",
   "metadata": {},
   "source": [
    "#### Runge - Kutta de 4º orden"
   ]
  },
  {
   "cell_type": "code",
   "execution_count": 10,
   "metadata": {},
   "outputs": [
    {
     "name": "stdout",
     "output_type": "stream",
     "text": [
      "2.3752325972431034\n"
     ]
    }
   ],
   "source": [
    "k1 = f(x1, y1)\n",
    "k2 = f(x1 + dx*0.5, y1 + k1*dx*0.5)\n",
    "k3 = f(x1 + dx*0.5, y1 + k2*dx*0.5)\n",
    "k4 = f(x1 + dx, y1 + k3*dx)\n",
    "    \n",
    "y2 = y1 + dx*(k1/6. + k2/3. + k3/3. + k4/6.)\n",
    "\n",
    "print y2    "
   ]
  },
  {
   "cell_type": "code",
   "execution_count": null,
   "metadata": {},
   "outputs": [],
   "source": []
  }
 ],
 "metadata": {
  "kernelspec": {
   "display_name": "Python 2",
   "language": "python",
   "name": "python2"
  },
  "language_info": {
   "codemirror_mode": {
    "name": "ipython",
    "version": 2
   },
   "file_extension": ".py",
   "mimetype": "text/x-python",
   "name": "python",
   "nbconvert_exporter": "python",
   "pygments_lexer": "ipython2",
   "version": "2.7.15"
  }
 },
 "nbformat": 4,
 "nbformat_minor": 2
}
