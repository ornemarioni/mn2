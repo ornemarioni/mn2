{
 "cells": [
  {
   "cell_type": "code",
   "execution_count": 1,
   "metadata": {},
   "outputs": [
    {
     "name": "stdout",
     "output_type": "stream",
     "text": [
      "Populating the interactive namespace from numpy and matplotlib\n"
     ]
    }
   ],
   "source": [
    "%pylab inline"
   ]
  },
  {
   "cell_type": "markdown",
   "metadata": {},
   "source": [
    "#### Vamos a integrar la ec diferencial (3.24) del libro con los diferentes integradores."
   ]
  },
  {
   "cell_type": "code",
   "execution_count": 2,
   "metadata": {},
   "outputs": [],
   "source": [
    "def f(x,y):\n",
    "    f = np.sqrt(x + y/4.)\n",
    "    return f\n"
   ]
  },
  {
   "cell_type": "code",
   "execution_count": 3,
   "metadata": {},
   "outputs": [],
   "source": [
    "x1 = 1.\n",
    "y1 = 1.\n",
    "x2 = 2.\n",
    "dx = x2 - x1\n"
   ]
  },
  {
   "cell_type": "markdown",
   "metadata": {},
   "source": [
    "#### Euler"
   ]
  },
  {
   "cell_type": "code",
   "execution_count": 8,
   "metadata": {},
   "outputs": [
    {
     "name": "stdout",
     "output_type": "stream",
     "text": [
      "2.118033988749895\n"
     ]
    }
   ],
   "source": [
    "y2 = y1 + f(x1,y1)*dx\n",
    "\n",
    "print y2"
   ]
  },
  {
   "cell_type": "markdown",
   "metadata": {},
   "source": [
    "#### Runge - Kutta de 2º orden"
   ]
  },
  {
   "cell_type": "code",
   "execution_count": 27,
   "metadata": {},
   "outputs": [
    {
     "name": "stdout",
     "output_type": "stream",
     "text": [
      "2.354238425359342\n"
     ]
    }
   ],
   "source": [
    "h = dx\n",
    "\n",
    "k1 = f(x1, y1)\n",
    "k2 = f(x1+h, y1 + k1*h)\n",
    "y2 = y1 + h*(k1+k2)/2.\n",
    "print  y2\n"
   ]
  },
  {
   "cell_type": "markdown",
   "metadata": {},
   "source": [
    "#### Método del punto medio o Euler modificado (así esta en el libro)"
   ]
  },
  {
   "cell_type": "code",
   "execution_count": 28,
   "metadata": {},
   "outputs": [
    {
     "name": "stdout",
     "output_type": "stream",
     "text": [
      "2.3746833266588117\n"
     ]
    }
   ],
   "source": [
    "h = dx\n",
    "\n",
    "k1 = h*f(x1, y1)\n",
    "y2 = y1 + h*f(x1 + h/2., y1 + k1/2.)\n",
    "print  y2"
   ]
  },
  {
   "cell_type": "markdown",
   "metadata": {},
   "source": [
    "#### Runge - Kutta de 4º orden"
   ]
  },
  {
   "cell_type": "code",
   "execution_count": 10,
   "metadata": {},
   "outputs": [
    {
     "name": "stdout",
     "output_type": "stream",
     "text": [
      "2.3752325972431034\n"
     ]
    }
   ],
   "source": [
    "k1 = f(x1, y1)\n",
    "k2 = f(x1 + dx*0.5, y1 + k1*dx*0.5)\n",
    "k3 = f(x1 + dx*0.5, y1 + k2*dx*0.5)\n",
    "k4 = f(x1 + dx, y1 + k3*dx)\n",
    "    \n",
    "y2 = y1 + dx*(k1/6. + k2/3. + k3/3. + k4/6.)\n",
    "\n",
    "print y2    "
   ]
  },
  {
   "cell_type": "code",
   "execution_count": null,
   "metadata": {},
   "outputs": [],
   "source": []
  }
 ],
 "metadata": {
  "kernelspec": {
   "display_name": "Python 2",
   "language": "python",
   "name": "python2"
  },
  "language_info": {
   "codemirror_mode": {
    "name": "ipython",
    "version": 2
   },
   "file_extension": ".py",
   "mimetype": "text/x-python",
   "name": "python",
   "nbconvert_exporter": "python",
   "pygments_lexer": "ipython2",
   "version": "2.7.15"
  }
 },
 "nbformat": 4,
 "nbformat_minor": 2
}
