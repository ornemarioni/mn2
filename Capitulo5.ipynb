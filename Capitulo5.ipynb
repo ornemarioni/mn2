{
 "cells": [
  {
   "cell_type": "code",
   "execution_count": 2,
   "metadata": {},
   "outputs": [
    {
     "name": "stdout",
     "output_type": "stream",
     "text": [
      "Populating the interactive namespace from numpy and matplotlib\n"
     ]
    }
   ],
   "source": [
    "%pylab inline"
   ]
  },
  {
   "cell_type": "code",
   "execution_count": 7,
   "metadata": {},
   "outputs": [],
   "source": [
    "dm = 0.01\n",
    "m = np.arange(0.05,1,dm)*1.99e30 #masa del sol\n",
    "a = 7.5657e-16\n",
    "k ="
   ]
  },
  {
   "cell_type": "code",
   "execution_count": 18,
   "metadata": {},
   "outputs": [],
   "source": [
    "d = np.zeros(len(m)) #densidad\n",
    "r = np.zeros(len(m)) #radio\n",
    "P = np.zeros(len(m)) #Presion\n",
    "L = np.zeros(len(m)) #Luminosidad\n",
    "E = np.zeros(len(m)) #Energia\n",
    "T = np.zeros(len(m)) #Temperatura \n",
    "B = np.zeros(len(m)) #B = T nabla /P (nabla: Ec 5.12)"
   ]
  },
  {
   "cell_type": "markdown",
   "metadata": {},
   "source": [
    "### Colocamos los valores iniciales en el centro del Sol"
   ]
  },
  {
   "cell_type": "code",
   "execution_count": 17,
   "metadata": {},
   "outputs": [
    {
     "ename": "NameError",
     "evalue": "name 'd' is not defined",
     "output_type": "error",
     "traceback": [
      "\u001b[0;31m---------------------------------------------------------------------------\u001b[0m",
      "\u001b[0;31mNameError\u001b[0m                                 Traceback (most recent call last)",
      "\u001b[0;32m<ipython-input-17-5a1b0336de45>\u001b[0m in \u001b[0;36m<module>\u001b[0;34m()\u001b[0m\n\u001b[0;32m----> 1\u001b[0;31m \u001b[0md\u001b[0m\u001b[0;34m[\u001b[0m\u001b[0;36m0\u001b[0m\u001b[0;34m]\u001b[0m\u001b[0;34m=\u001b[0m \u001b[0;36m150e3\u001b[0m \u001b[0;31m# kg/m^3\u001b[0m\u001b[0;34m\u001b[0m\u001b[0m\n\u001b[0m\u001b[1;32m      2\u001b[0m \u001b[0mr\u001b[0m\u001b[0;34m[\u001b[0m\u001b[0;36m0\u001b[0m\u001b[0;34m]\u001b[0m\u001b[0;34m=\u001b[0m \u001b[0;36m0.05\u001b[0m\u001b[0;34m*\u001b[0m\u001b[0;36m6.96e8\u001b[0m \u001b[0;31m# m\u001b[0m\u001b[0;34m\u001b[0m\u001b[0m\n\u001b[1;32m      3\u001b[0m \u001b[0mP\u001b[0m\u001b[0;34m[\u001b[0m\u001b[0;36m0\u001b[0m\u001b[0;34m]\u001b[0m\u001b[0;34m=\u001b[0m \u001b[0;36m2.65e16\u001b[0m \u001b[0;31m# N/m^2\u001b[0m\u001b[0;34m\u001b[0m\u001b[0m\n\u001b[1;32m      4\u001b[0m \u001b[0mL\u001b[0m\u001b[0;34m[\u001b[0m\u001b[0;36m0\u001b[0m\u001b[0;34m]\u001b[0m\u001b[0;34m=\u001b[0m \u001b[0;36m0.\u001b[0m \u001b[0;31m#\u001b[0m\u001b[0;34m\u001b[0m\u001b[0m\n\u001b[1;32m      5\u001b[0m \u001b[0mE\u001b[0m\u001b[0;34m[\u001b[0m\u001b[0;36m0\u001b[0m\u001b[0;34m]\u001b[0m\u001b[0;34m=\u001b[0m \u001b[0;36m3.86e26\u001b[0m \u001b[0;31m# kg*m^2/s^3\u001b[0m\u001b[0;34m\u001b[0m\u001b[0m\n",
      "\u001b[0;31mNameError\u001b[0m: name 'd' is not defined"
     ]
    }
   ],
   "source": [
    "d[0]= 150e3 # kg/m^3\n",
    "r[0]= 0.05*6.96e8 # m\n",
    "P[0]= 2.65e16 # N/m^2\n",
    "L[0]= 0. #\n",
    "E[0]= 3.86e26 # kg*m^2/s^3\n",
    "T[0]= 1.57e7 # K\n",
    "B[0]= 0.   \n"
   ]
  },
  {
   "cell_type": "code",
   "execution_count": null,
   "metadata": {},
   "outputs": [],
   "source": [
    "for i in range(1,len(m)):\n",
    "    r[i] = r[i-1]**3 + (m[i]-m[i-1])*3./(4. * np.pi * rho[j-1])\n",
    "    P[j] = P[j-1] - dm * G * M[j-1] / (4 * np.pi * r[j-1]**4)\n",
    "    L[j] = L[j-1] + dm * E[j-1]\n",
    "    E[j] = (L[j]-L[j-1])/dm\n",
    "    T[j] = T[j-1] - dm * G * M[j-1] * B[j-1] / (4 * np.pi * r[j-1]**4)\n",
    "    B[j] = 3. * k * L[j] / (16 * np.pi * G * a * c * M[j] * T[j]**3)    "
   ]
  },
  {
   "cell_type": "code",
   "execution_count": null,
   "metadata": {},
   "outputs": [],
   "source": []
  }
 ],
 "metadata": {
  "kernelspec": {
   "display_name": "Python 2",
   "language": "python",
   "name": "python2"
  },
  "language_info": {
   "codemirror_mode": {
    "name": "ipython",
    "version": 2
   },
   "file_extension": ".py",
   "mimetype": "text/x-python",
   "name": "python",
   "nbconvert_exporter": "python",
   "pygments_lexer": "ipython2",
   "version": "2.7.15"
  }
 },
 "nbformat": 4,
 "nbformat_minor": 2
}
