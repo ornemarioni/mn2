{
 "cells": [
  {
   "cell_type": "code",
   "execution_count": 2,
   "metadata": {},
   "outputs": [
    {
     "name": "stdout",
     "output_type": "stream",
     "text": [
      "Populating the interactive namespace from numpy and matplotlib\n"
     ]
    }
   ],
   "source": [
    "%pylab inline"
   ]
  },
  {
   "cell_type": "markdown",
   "metadata": {},
   "source": [
    "# Asignación de Masas "
   ]
  },
  {
   "cell_type": "code",
   "execution_count": 27,
   "metadata": {},
   "outputs": [],
   "source": [
    "import numpy as np\n",
    "import random\n",
    "\n",
    "N = 10  #número de partículas\n",
    "random.seed(17)\n",
    "\n",
    "sample = np.arange(0,1,1e-5)\n",
    "\n",
    "x = random.sample(sample, N)\n",
    "y = random.sample(sample, N)\n",
    "\n",
    "x = np.asarray(x)\n",
    "y = np.asarray(y)"
   ]
  },
  {
   "cell_type": "code",
   "execution_count": 28,
   "metadata": {},
   "outputs": [
    {
     "name": "stdout",
     "output_type": "stream",
     "text": [
      "0.333333333333 0.333333333333\n"
     ]
    }
   ],
   "source": [
    "nx = 3 #numero de celdas\n",
    "ny = 3\n",
    "\n",
    "xgrid = np.linspace(0,1,nx+1) #posicion de las lineas de nodos\n",
    "ygrid = np.linspace(0,1,ny+1)\n",
    "\n",
    "dx = 1./nx\n",
    "dy = 1./ny\n",
    "\n",
    "print dx, dy"
   ]
  },
  {
   "cell_type": "code",
   "execution_count": 5,
   "metadata": {},
   "outputs": [
    {
     "name": "stderr",
     "output_type": "stream",
     "text": [
      "/home/omarioni/miniconda2/lib/python2.7/site-packages/matplotlib/cbook/deprecation.py:107: MatplotlibDeprecationWarning: Passing one of 'on', 'true', 'off', 'false' as a boolean is deprecated; use an actual boolean (True/False) instead.\n",
      "  warnings.warn(message, mplDeprecation, stacklevel=1)\n"
     ]
    },
    {
     "data": {
      "image/png": "[encoded data removed]",
      "text/plain": [
       "<Figure size 576x576 with 1 Axes>"
      ]
     },
     "metadata": {
      "needs_background": "light"
     },
     "output_type": "display_data"
    }
   ],
   "source": [
    "import matplotlib\n",
    "import matplotlib.pyplot as plt\n",
    "from __future__ import unicode_literals\n",
    "\n",
    "matplotlib.rcParams['text.usetex'] = True\n",
    "matplotlib.rcParams['text.latex.unicode'] = True\n",
    "\n",
    "col = ('k', 'r', 'b', 'g','m','darkgray', 'darkorange', 'magenta', 'c', 'cyan')\n",
    "\n",
    "fig=plt.figure(1, figsize=(8,8))\n",
    "fig.subplots_adjust(bottom=0.15, left =0.16, right = 0.95, top = 0.95)\n",
    "ax=fig.add_subplot(111)\n",
    "for i in range(nx+1):\n",
    "    ax.axvline(x = xgrid[i],ls='-', color='r', lw=0.5)\n",
    "    ax.axhline(y = ygrid[i],ls='-', color='r', lw=0.5)\n",
    "\n",
    "for i in range(N):\n",
    "    ax.plot(x[i],y[i],'+k', markersize=10, color = col[i])\n",
    "\n",
    "ax.set_xlim(-0.05,1.05)\n",
    "ax.set_ylim(-0.05,1.05)\n",
    "\n",
    "ax.minorticks_on()\n",
    "ax.tick_params( labelsize=24)\n",
    "ax.tick_params('both', length=3, width=1.2,which='minor', direction='in', right='on',top='on')\n",
    "ax.tick_params('both', length=6, width=1.2,which='major', direction='in', right='on',top='on') \n",
    "ax.set_xlabel('x', fontsize=26)\n",
    "ax.set_ylabel('y',fontsize=26)\n",
    "# fig.savefig('/home/ornela/Dropbox/AAA_2017/escrito/BAAA_2018_art/fig_05.pdf', dpi = 100)\n",
    "plt.show()"
   ]
  },
  {
   "cell_type": "markdown",
   "metadata": {},
   "source": [
    "## NGP "
   ]
  },
  {
   "cell_type": "code",
   "execution_count": 37,
   "metadata": {},
   "outputs": [
    {
     "name": "stdout",
     "output_type": "stream",
     "text": [
      "[1 2 2 0 2 2 1 0 0 1] [2 0 1 0 2 2 1 2 0 2]\n",
      "[5 6 7 0 8 8 4 2 0 5]\n",
      "0 8\n"
     ]
    }
   ],
   "source": [
    "nxgrid = np.int_(x*nx)\n",
    "nygrid = np.int_(y*ny)\n",
    "\n",
    "print nxgrid, nygrid\n",
    "\n",
    "h = nxgrid*ny + nygrid \n",
    "\n",
    "h = np.int_(h) #esto nos dice a que numero de grid total corresponde cada conjunto nxgrid, ygrid\n",
    "\n",
    "print h\n",
    "print h.min(), h.max()\n"
   ]
  },
  {
   "cell_type": "markdown",
   "metadata": {},
   "source": [
    "Definimos un vector masas para sumar las masas en cada celda"
   ]
  },
  {
   "cell_type": "code",
   "execution_count": 38,
   "metadata": {},
   "outputs": [
    {
     "name": "stdout",
     "output_type": "stream",
     "text": [
      "[1. 1. 1. 1. 1. 1. 1. 1. 1. 1.]\n"
     ]
    }
   ],
   "source": [
    "random.seed(29)\n",
    "# masas = random.sample(sample, N)\n",
    "# masas = np.asarray(masas)*10\n",
    "masas=np.ones(N)\n",
    "print masas"
   ]
  },
  {
   "cell_type": "markdown",
   "metadata": {},
   "source": [
    "Acá sumamos las masas de las particulas de cada celda"
   ]
  },
  {
   "cell_type": "code",
   "execution_count": 39,
   "metadata": {},
   "outputs": [
    {
     "name": "stdout",
     "output_type": "stream",
     "text": [
      "[2. 0. 1. 0. 1. 2. 1. 1. 2.]\n"
     ]
    }
   ],
   "source": [
    "count = np.zeros(nx*ny)\n",
    "\n",
    "for i in range(0,len(h)):\n",
    "    count[h[i]] = count[h[i]] + masas[i] \n",
    "\n",
    "print count"
   ]
  },
  {
   "cell_type": "markdown",
   "metadata": {},
   "source": [
    "## CIC "
   ]
  },
  {
   "cell_type": "code",
   "execution_count": 41,
   "metadata": {},
   "outputs": [
    {
     "data": {
      "image/png": "[encoded data removed]",
      "text/plain": [
       "<Figure size 576x576 with 1 Axes>"
      ]
     },
     "metadata": {
      "needs_background": "light"
     },
     "output_type": "display_data"
    }
   ],
   "source": [
    "import matplotlib\n",
    "import matplotlib.pyplot as plt\n",
    "from __future__ import unicode_literals\n",
    "\n",
    "matplotlib.rcParams['text.usetex'] = True\n",
    "matplotlib.rcParams['text.latex.unicode'] = True\n",
    "\n",
    "\n",
    "col = ('k', 'r', 'b', 'g','m','darkgray', 'darkorange', 'magenta', 'c', 'cyan')\n",
    "fig=plt.figure(1, figsize=(8,8))\n",
    "fig.subplots_adjust(bottom=0.15, left =0.16, right = 0.95, top = 0.95)\n",
    "ax=fig.add_subplot(111)\n",
    "for i in range(nx+1):\n",
    "    ax.axvline(x = xgrid[i],ls='-', color='r', lw=0.5)\n",
    "    ax.axhline(y = ygrid[i],ls='-', color='r', lw=0.5)\n",
    "\n",
    "for i in range(N):\n",
    "    ax.plot(x[i],y[i],'+k', markersize=10, color = col[i])\n",
    "\n",
    "ax.set_xlim(-0.05,1.05)\n",
    "ax.set_ylim(-0.05,1.05)\n",
    "\n",
    "ax.minorticks_on()\n",
    "ax.tick_params( labelsize=24)\n",
    "ax.tick_params('both', length=3, width=1.2,which='minor', direction='in', right='on',top='on')\n",
    "ax.tick_params('both', length=6, width=1.2,which='major', direction='in', right='on',top='on') \n",
    "ax.set_xlabel('x', fontsize=26)\n",
    "ax.set_ylabel('y',fontsize=26)\n",
    "# fig.savefig('/home/ornela/Dropbox/AAA_2017/escrito/BAAA_2018_art/fig_05.pdf', dpi = 100)\n",
    "plt.show()"
   ]
  },
  {
   "cell_type": "markdown",
   "metadata": {},
   "source": [
    "Definimos un vector masas para sumar las masas en cada celda"
   ]
  },
  {
   "cell_type": "code",
   "execution_count": 42,
   "metadata": {},
   "outputs": [
    {
     "name": "stdout",
     "output_type": "stream",
     "text": [
      "[1. 1. 1. 1. 1. 1. 1. 1. 1. 1.]\n"
     ]
    }
   ],
   "source": [
    "random.seed(29)\n",
    "# masas = random.sample(sample, N)\n",
    "# masas = np.asarray(masas)*10\n",
    "masas=np.ones(N)\n",
    "print masas"
   ]
  },
  {
   "cell_type": "code",
   "execution_count": 43,
   "metadata": {},
   "outputs": [
    {
     "name": "stdout",
     "output_type": "stream",
     "text": [
      "[1 2 2 0 2 2 1 0 0 1] [2 0 1 0 2 2 1 2 0 2]\n"
     ]
    }
   ],
   "source": [
    "nxgrid = np.int_(x*nx)\n",
    "nygrid = np.int_(y*ny)\n",
    "\n",
    "print nxgrid, nygrid"
   ]
  },
  {
   "cell_type": "code",
   "execution_count": 44,
   "metadata": {},
   "outputs": [
    {
     "name": "stdout",
     "output_type": "stream",
     "text": [
      "[-1.  1. -1. -1.  1.  1. -1.  1.  1.  1.]\n",
      "[0.14468667 0.14002333 0.03951    0.04371333 0.09943333 0.03754333\n",
      " 0.00528667 0.11016    0.02693    0.05083667]\n",
      "------------------------------------\n",
      "[ 1. -1. -1. -1. -1. -1.  1. -1.  1.  1.]\n",
      "[0.07972333 0.08095333 0.16506667 0.01590333 0.15368    0.05481\n",
      " 0.06825667 0.00156    0.06219    0.14593333]\n"
     ]
    }
   ],
   "source": [
    "distx = np.zeros(N)\n",
    "disty = np.zeros(N)\n",
    "sgx = np.zeros(N)\n",
    "sgy = np.zeros(N)\n",
    "\n",
    "for i in range(N):\n",
    "    w = x[i] - xgrid\n",
    "    distx_aux = abs(w)\n",
    "    distx[i] = distx_aux.min()\n",
    "    p = distx_aux.argmin()\n",
    "    sgx[i] = np.sign(w[p])\n",
    "print sgx\n",
    "print distx\n",
    "\n",
    "print '------------------------------------'\n",
    "\n",
    "for i in range(N):\n",
    "    w = y[i] - ygrid\n",
    "    disty_aux = abs(w)\n",
    "    disty[i] = disty_aux.min()\n",
    "    p = disty_aux.argmin()\n",
    "    sgy[i] = np.sign(w[p])\n",
    "print sgy\n",
    "print disty\n"
   ]
  },
  {
   "cell_type": "code",
   "execution_count": 46,
   "metadata": {},
   "outputs": [
    {
     "name": "stdout",
     "output_type": "stream",
     "text": [
      "[[1.84100169 0.68671113 0.83238718]\n",
      " [0.55155044 0.83516453 1.75357503]\n",
      " [1.06309787 1.21055433 1.2259578 ]]\n"
     ]
    }
   ],
   "source": [
    "# masas=np.ones(N)\n",
    "count = np.zeros((nx,ny))\n",
    "\n",
    "# print count\n",
    "\n",
    "LX = (distx + dx/2.)/dx\n",
    "LY = (disty + dy/2.)/dy\n",
    "\n",
    "for k in range(N):\n",
    "    \n",
    "    #region de la particula\n",
    "    i_ = np.int(x[k]*nx)\n",
    "    j_ = np.int(y[k]*ny)\n",
    "    \n",
    "    i = i_%nx\n",
    "    j = j_%ny\n",
    "    count[i,j] = count[i,j] + masas[k] * LX[k] * LY[k]\n",
    "    \n",
    "    #lado en x donde no esta la particula\n",
    "    i_ = np.int((x[k]-sgx[k]*dx/2.)*nx)\n",
    "    j_ = np.int(y[k]*ny)\n",
    "    \n",
    "    i = i_%nx\n",
    "    j = j_%ny\n",
    "    count[i,j] = count[i,j] + masas[k] * (1.-LX[k]) * LY[k]\n",
    "    \n",
    "    #lado en y donde no esta la particula \n",
    "    i_ = np.int(x[k]*nx)\n",
    "    j_ = np.int((y[k]-sgy[k]*dy/2.)*ny)\n",
    "    \n",
    "    i = i_%nx\n",
    "    j = j_%ny\n",
    "    count[i,j] = count[i,j] + masas[k] * LX[k] * (1.-LY[k])\n",
    "\n",
    "    #diagonal (donde NO esta la particula)\n",
    "    i_ = np.int((x[k]-sgx[k]*dx/2.)*nx)\n",
    "    j_ = np.int((y[k]-sgy[k]*dy/2.)*ny)\n",
    "    \n",
    "    i = i_%nx\n",
    "    j = j_%ny\n",
    "    count[i,j] = count[i,j] + masas[k] * (1.-LX[k]) * (1.-LY[k])    \n",
    "\n",
    "print count"
   ]
  },
  {
   "cell_type": "markdown",
   "metadata": {},
   "source": [
    "## TSC"
   ]
  },
  {
   "cell_type": "code",
   "execution_count": 29,
   "metadata": {},
   "outputs": [
    {
     "data": {
      "image/png": "[encoded data removed]",
      "text/plain": [
       "<Figure size 720x288 with 1 Axes>"
      ]
     },
     "metadata": {
      "needs_background": "light"
     },
     "output_type": "display_data"
    }
   ],
   "source": [
    "import matplotlib\n",
    "import matplotlib.pyplot as plt\n",
    "from __future__ import unicode_literals\n",
    "\n",
    "matplotlib.rcParams['text.usetex'] = True\n",
    "matplotlib.rcParams['text.latex.unicode'] = True\n",
    "\n",
    "\n",
    "col = ('k', 'r', 'b', 'g','m','darkgray', 'darkorange', 'magenta', 'c', 'cyan')\n",
    "fig=plt.figure(1, figsize=(10,4))\n",
    "fig.subplots_adjust(bottom=0.15, left =0.16, right = 0.95, top = 0.95)\n",
    "ax=fig.add_subplot(111)\n",
    "for i in range(nx+1):\n",
    "    ax.axvline(x = xgrid[i],ls='-', color='r', lw=0.5)\n",
    "\n",
    "for i in range(N):\n",
    "    ax.plot(x[i],0,'+k', markersize=10, color = col[i])\n",
    "\n",
    "ax.set_xlim(-0.05,1.05)\n",
    "ax.set_ylim(-0.05,0.05)\n",
    "ax.set_yticks([])\n",
    "\n",
    "ax.minorticks_on()\n",
    "ax.tick_params( labelsize=24)\n",
    "ax.tick_params('both', length=3, width=1.2,which='minor', direction='in', right='on',top='on')\n",
    "ax.tick_params('both', length=6, width=1.2,which='major', direction='in', right='on',top='on') \n",
    "ax.set_xlabel('x', fontsize=26)\n",
    "\n",
    "# fig.savefig('/home/ornela/Dropbox/AAA_2017/escrito/BAAA_2018_art/fig_05.pdf', dpi = 100)\n",
    "plt.show()"
   ]
  },
  {
   "cell_type": "markdown",
   "metadata": {},
   "source": [
    "Definimos un vector masas para sumar las masas en cada celda"
   ]
  },
  {
   "cell_type": "code",
   "execution_count": 30,
   "metadata": {},
   "outputs": [
    {
     "name": "stdout",
     "output_type": "stream",
     "text": [
      "[1. 1. 1. 1. 1. 1. 1. 1. 1. 1.]\n"
     ]
    }
   ],
   "source": [
    "random.seed(29)\n",
    "# masas = random.sample(sample, N)\n",
    "# masas = np.asarray(masas)*10\n",
    "masas=np.ones(N)\n",
    "print masas"
   ]
  },
  {
   "cell_type": "code",
   "execution_count": 31,
   "metadata": {},
   "outputs": [
    {
     "name": "stdout",
     "output_type": "stream",
     "text": [
      "[1 2 2 0 2 2 1 0 0 1]\n"
     ]
    }
   ],
   "source": [
    "nxgrid = np.int_(x*nx)\n",
    "\n",
    "print nxgrid"
   ]
  },
  {
   "cell_type": "code",
   "execution_count": 32,
   "metadata": {},
   "outputs": [
    {
     "name": "stdout",
     "output_type": "stream",
     "text": [
      "[-1.  1. -1. -1.  1.  1. -1.  1.  1.  1.]\n",
      "[0.14468667 0.14002333 0.03951    0.04371333 0.09943333 0.03754333\n",
      " 0.00528667 0.11016    0.02693    0.05083667]\n"
     ]
    }
   ],
   "source": [
    "distx = np.zeros(N)\n",
    "sgx = np.zeros(N)\n",
    "\n",
    "for i in range(N):\n",
    "    w = x[i] - xgrid\n",
    "    distx_aux = abs(w)\n",
    "    distx[i] = distx_aux.min()\n",
    "    p = distx_aux.argmin()\n",
    "    sgx[i] = np.sign(w[p])\n",
    "\n",
    "print sgx\n",
    "print distx\n"
   ]
  },
  {
   "cell_type": "code",
   "execution_count": 34,
   "metadata": {},
   "outputs": [
    {
     "name": "stdout",
     "output_type": "stream",
     "text": [
      "[3.54567687 3.14093024 3.31339289]\n"
     ]
    }
   ],
   "source": [
    "# masas=np.ones(N)\n",
    "count = np.zeros(nx)\n",
    "\n",
    "# print count\n",
    "\n",
    "for k in range(N):\n",
    "    \n",
    "    #area mas grande\n",
    "    i_ = np.int((x[k]-sgx[k]*dx)*nx)\n",
    "    i = i_%nx\n",
    "    \n",
    "    area_3 = 0.5*(1.-distx[k]/dx)**2\n",
    "    \n",
    "    count[i] = count[i] + masas[k] * area_3\n",
    "    \n",
    "    #area mas chica\n",
    "    i_ = np.int((x[k]+sgx[k]*dx)*nx)\n",
    "    i = i_%nx\n",
    "    \n",
    "    area_1 = 0.5*(distx[k]/dx)**2\n",
    "    \n",
    "    count[i] = count[i] + masas[k] * area_1\n",
    "        \n",
    "    #area de la particula\n",
    "    i_ = np.int(x[k]*nx)\n",
    "    i = i_%nx\n",
    "    \n",
    "    area_2 = 1.-area_3-area_1\n",
    "    \n",
    "    count[i] = count[i] + masas[k] * area_2\n",
    "\n",
    "print count"
   ]
  },
  {
   "cell_type": "code",
   "execution_count": null,
   "metadata": {},
   "outputs": [],
   "source": []
  }
 ],
 "metadata": {
  "kernelspec": {
   "display_name": "Python 2",
   "language": "python",
   "name": "python2"
  },
  "language_info": {
   "codemirror_mode": {
    "name": "ipython",
    "version": 2
   },
   "file_extension": ".py",
   "mimetype": "text/x-python",
   "name": "python",
   "nbconvert_exporter": "python",
   "pygments_lexer": "ipython2",
   "version": "2.7.15"
  }
 },
 "nbformat": 4,
 "nbformat_minor": 2
}
