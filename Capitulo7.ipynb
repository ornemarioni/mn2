{
 "cells": [
  {
   "cell_type": "code",
   "execution_count": 2,
   "metadata": {},
   "outputs": [
    {
     "name": "stdout",
     "output_type": "stream",
     "text": [
      "Populating the interactive namespace from numpy and matplotlib\n"
     ]
    }
   ],
   "source": [
    "%pylab inline"
   ]
  },
  {
   "cell_type": "markdown",
   "metadata": {},
   "source": [
    "# Asignación de Masas "
   ]
  },
  {
   "cell_type": "code",
   "execution_count": 22,
   "metadata": {},
   "outputs": [],
   "source": [
    "import numpy as np\n",
    "import random\n",
    "\n",
    "N = 10  #número de partículas\n",
    "random.seed(17)\n",
    "\n",
    "sample = np.arange(0,1,1e-5)\n",
    "\n",
    "x = random.sample(sample, N)\n",
    "y = random.sample(sample, N)\n",
    "\n",
    "x = np.asarray(x)\n",
    "y = np.asarray(y)"
   ]
  },
  {
   "cell_type": "code",
   "execution_count": 138,
   "metadata": {},
   "outputs": [],
   "source": [
    "nx = 3 #numero de celdas\n",
    "ny = 3\n",
    "\n",
    "xgrid = np.linspace(0,1,nx+1) #posicion de las lineas de nodos\n",
    "ygrid = np.linspace(0,1,ny+1)\n",
    "\n",
    "dx = 1./nx\n",
    "dy = 1./ny"
   ]
  },
  {
   "cell_type": "code",
   "execution_count": 121,
   "metadata": {},
   "outputs": [
    {
     "data": {
      "image/png": "[encoded data removed]",
      "text/plain": [
       "<Figure size 576x576 with 1 Axes>"
      ]
     },
     "metadata": {
      "needs_background": "light"
     },
     "output_type": "display_data"
    }
   ],
   "source": [
    "import matplotlib\n",
    "import matplotlib.pyplot as plt\n",
    "from __future__ import unicode_literals\n",
    "\n",
    "matplotlib.rcParams['text.usetex'] = True\n",
    "matplotlib.rcParams['text.latex.unicode'] = True\n",
    "\n",
    "\n",
    "col = ('k', 'r', 'b', 'g','m','darkgray', 'darkorange', 'magenta', 'c', 'cyan')\n",
    "fig=plt.figure(1, figsize=(8,8))\n",
    "fig.subplots_adjust(bottom=0.15, left =0.16, right = 0.95, top = 0.95)\n",
    "ax=fig.add_subplot(111)\n",
    "for i in range(nx+1):\n",
    "    ax.axvline(x = xgrid[i],ls='-', color='r', lw=0.5)\n",
    "    ax.axhline(y = ygrid[i],ls='-', color='r', lw=0.5)\n",
    "\n",
    "for i in range(N):\n",
    "    ax.plot(x[i],y[i],'+k', markersize=10, color = col[i])\n",
    "\n",
    "ax.set_xlim(-0.05,1.05)\n",
    "ax.set_ylim(-0.05,1.05)\n",
    "\n",
    "ax.minorticks_on()\n",
    "ax.tick_params( labelsize=24)\n",
    "ax.tick_params('both', length=3, width=1.2,which='minor', direction='in', right='on',top='on')\n",
    "ax.tick_params('both', length=6, width=1.2,which='major', direction='in', right='on',top='on') \n",
    "ax.set_xlabel('x', fontsize=26)\n",
    "ax.set_ylabel('y',fontsize=26)\n",
    "# fig.savefig('/home/ornela/Dropbox/AAA_2017/escrito/BAAA_2018_art/fig_05.pdf', dpi = 100)\n",
    "plt.show()"
   ]
  },
  {
   "cell_type": "markdown",
   "metadata": {},
   "source": [
    "## NGP "
   ]
  },
  {
   "cell_type": "code",
   "execution_count": 122,
   "metadata": {},
   "outputs": [
    {
     "name": "stdout",
     "output_type": "stream",
     "text": [
      "[1 2 2 0 2 2 1 0 0 1] [2 0 1 0 2 2 1 2 0 2]\n",
      "[5 6 7 0 8 8 4 2 0 5]\n",
      "0 8\n"
     ]
    }
   ],
   "source": [
    "nxgrid = np.int_(x*nx)\n",
    "nygrid = np.int_(y*ny)\n",
    "\n",
    "print nxgrid, nygrid\n",
    "\n",
    "h = nxgrid*ny + nygrid \n",
    "\n",
    "h = np.int_(h) #esto nos dice a que numero de grid total corresponde cada conjunto nxgrid, ygrid\n",
    "\n",
    "print h\n",
    "print h.min(), h.max()\n"
   ]
  },
  {
   "cell_type": "markdown",
   "metadata": {},
   "source": [
    "Definimos un vector masas para sumar las masas en cada celda"
   ]
  },
  {
   "cell_type": "code",
   "execution_count": 126,
   "metadata": {},
   "outputs": [
    {
     "name": "stdout",
     "output_type": "stream",
     "text": [
      "[5.4811 3.4583 8.4485 2.8859 5.1034 3.4381 4.1549 9.7385 1.0373 4.447 ]\n"
     ]
    }
   ],
   "source": [
    "random.seed(29)\n",
    "masas = random.sample(sample, N)\n",
    "masas = np.asarray(masas)*10\n",
    "print masas"
   ]
  },
  {
   "cell_type": "markdown",
   "metadata": {},
   "source": [
    "Acá sumamos las masas de las particulas de cada celda"
   ]
  },
  {
   "cell_type": "code",
   "execution_count": 127,
   "metadata": {},
   "outputs": [
    {
     "name": "stdout",
     "output_type": "stream",
     "text": [
      "[3.9232 0.     9.7385 0.     4.1549 9.9281 3.4583 8.4485 8.5415]\n"
     ]
    }
   ],
   "source": [
    "count = np.zeros(nx*ny)\n",
    "\n",
    "for i in range(0,len(h)):\n",
    "    count[h[i]] = count[h[i]] + masas[i] \n",
    "\n",
    "print count"
   ]
  },
  {
   "cell_type": "markdown",
   "metadata": {},
   "source": [
    "## CIC "
   ]
  },
  {
   "cell_type": "code",
   "execution_count": 128,
   "metadata": {},
   "outputs": [
    {
     "data": {
      "image/png": "[encoded data removed]",
      "text/plain": [
       "<Figure size 576x576 with 1 Axes>"
      ]
     },
     "metadata": {
      "needs_background": "light"
     },
     "output_type": "display_data"
    }
   ],
   "source": [
    "import matplotlib\n",
    "import matplotlib.pyplot as plt\n",
    "from __future__ import unicode_literals\n",
    "\n",
    "matplotlib.rcParams['text.usetex'] = True\n",
    "matplotlib.rcParams['text.latex.unicode'] = True\n",
    "\n",
    "\n",
    "col = ('k', 'r', 'b', 'g','m','darkgray', 'darkorange', 'magenta', 'c', 'cyan')\n",
    "fig=plt.figure(1, figsize=(8,8))\n",
    "fig.subplots_adjust(bottom=0.15, left =0.16, right = 0.95, top = 0.95)\n",
    "ax=fig.add_subplot(111)\n",
    "for i in range(nx+1):\n",
    "    ax.axvline(x = xgrid[i],ls='-', color='r', lw=0.5)\n",
    "    ax.axhline(y = ygrid[i],ls='-', color='r', lw=0.5)\n",
    "\n",
    "for i in range(N):\n",
    "    ax.plot(x[i],y[i],'+k', markersize=10, color = col[i])\n",
    "\n",
    "ax.set_xlim(-0.05,1.05)\n",
    "ax.set_ylim(-0.05,1.05)\n",
    "\n",
    "ax.minorticks_on()\n",
    "ax.tick_params( labelsize=24)\n",
    "ax.tick_params('both', length=3, width=1.2,which='minor', direction='in', right='on',top='on')\n",
    "ax.tick_params('both', length=6, width=1.2,which='major', direction='in', right='on',top='on') \n",
    "ax.set_xlabel('x', fontsize=26)\n",
    "ax.set_ylabel('y',fontsize=26)\n",
    "# fig.savefig('/home/ornela/Dropbox/AAA_2017/escrito/BAAA_2018_art/fig_05.pdf', dpi = 100)\n",
    "plt.show()"
   ]
  },
  {
   "cell_type": "code",
   "execution_count": 129,
   "metadata": {},
   "outputs": [
    {
     "name": "stdout",
     "output_type": "stream",
     "text": [
      "[1 2 2 0 2 2 1 0 0 1] [2 0 1 0 2 2 1 2 0 2]\n"
     ]
    }
   ],
   "source": [
    "nxgrid = np.int_(x*nx)\n",
    "nygrid = np.int_(y*ny)\n",
    "\n",
    "print nxgrid, nygrid"
   ]
  },
  {
   "cell_type": "code",
   "execution_count": 136,
   "metadata": {},
   "outputs": [
    {
     "name": "stdout",
     "output_type": "stream",
     "text": [
      "[-1.  1. -1. -1.  1.  1. -1.  1.  1.  1.]\n",
      "[0.14468667 0.14002333 0.03951    0.04371333 0.09943333 0.03754333\n",
      " 0.00528667 0.11016    0.02693    0.05083667]\n",
      "------------------------------------\n",
      "[ 1. -1. -1. -1. -1. -1.  1. -1.  1.  1.]\n",
      "[0.07972333 0.08095333 0.16506667 0.01590333 0.15368    0.05481\n",
      " 0.06825667 0.00156    0.06219    0.14593333]\n"
     ]
    }
   ],
   "source": [
    "distx = np.zeros(N)\n",
    "disty = np.zeros(N)\n",
    "sgx = np.zeros(N)\n",
    "sgy = np.zeros(N)\n",
    "\n",
    "for i in range(N):\n",
    "    w = x[i] - xgrid\n",
    "    distx_aux = abs(w)\n",
    "    distx[i] = distx_aux.min()\n",
    "    p = distx_aux.argmin()\n",
    "    sgx[i] = np.sign(w[p])\n",
    "print sgx\n",
    "print distx\n",
    "\n",
    "print '------------------------------------'\n",
    "\n",
    "for i in range(N):\n",
    "    w = y[i] - ygrid\n",
    "    disty_aux = abs(w)\n",
    "    disty[i] = disty_aux.min()\n",
    "    p = disty_aux.argmin()\n",
    "    sgy[i] = np.sign(w[p])\n",
    "print sgy\n",
    "print disty\n"
   ]
  },
  {
   "cell_type": "code",
   "execution_count": 137,
   "metadata": {},
   "outputs": [
    {
     "name": "stdout",
     "output_type": "stream",
     "text": [
      "[[0. 0. 0.]\n",
      " [0. 0. 0.]\n",
      " [0. 0. 0.]]\n"
     ]
    },
    {
     "ename": "IndexError",
     "evalue": "index 3 is out of bounds for axis 0 with size 3",
     "output_type": "error",
     "traceback": [
      "\u001b[0;31m---------------------------------------------------------------------------\u001b[0m",
      "\u001b[0;31mIndexError\u001b[0m                                Traceback (most recent call last)",
      "\u001b[0;32m<ipython-input-137-2ee0a7aa7942>\u001b[0m in \u001b[0;36m<module>\u001b[0;34m()\u001b[0m\n\u001b[1;32m     20\u001b[0m     \u001b[0mi\u001b[0m \u001b[0;34m=\u001b[0m \u001b[0mnp\u001b[0m\u001b[0;34m.\u001b[0m\u001b[0mint\u001b[0m\u001b[0;34m(\u001b[0m\u001b[0;34m(\u001b[0m\u001b[0mx\u001b[0m\u001b[0;34m[\u001b[0m\u001b[0mk\u001b[0m\u001b[0;34m]\u001b[0m\u001b[0;34m-\u001b[0m\u001b[0msgx\u001b[0m\u001b[0;34m[\u001b[0m\u001b[0mk\u001b[0m\u001b[0;34m]\u001b[0m\u001b[0;34m*\u001b[0m\u001b[0mdx\u001b[0m\u001b[0;34m/\u001b[0m\u001b[0;36m2.\u001b[0m\u001b[0;34m)\u001b[0m\u001b[0;34m*\u001b[0m\u001b[0mnx\u001b[0m\u001b[0;34m)\u001b[0m\u001b[0;34m\u001b[0m\u001b[0m\n\u001b[1;32m     21\u001b[0m     \u001b[0mj\u001b[0m \u001b[0;34m=\u001b[0m \u001b[0mnp\u001b[0m\u001b[0;34m.\u001b[0m\u001b[0mint\u001b[0m\u001b[0;34m(\u001b[0m\u001b[0my\u001b[0m\u001b[0;34m[\u001b[0m\u001b[0mk\u001b[0m\u001b[0;34m]\u001b[0m\u001b[0;34m*\u001b[0m\u001b[0mny\u001b[0m\u001b[0;34m)\u001b[0m\u001b[0;34m\u001b[0m\u001b[0m\n\u001b[0;32m---> 22\u001b[0;31m     \u001b[0mcount\u001b[0m\u001b[0;34m[\u001b[0m\u001b[0mi\u001b[0m\u001b[0;34m,\u001b[0m\u001b[0mj\u001b[0m\u001b[0;34m]\u001b[0m \u001b[0;34m=\u001b[0m \u001b[0mcount\u001b[0m\u001b[0;34m[\u001b[0m\u001b[0mi\u001b[0m\u001b[0;34m,\u001b[0m\u001b[0mj\u001b[0m\u001b[0;34m]\u001b[0m \u001b[0;34m+\u001b[0m \u001b[0mmasas\u001b[0m\u001b[0;34m[\u001b[0m\u001b[0mk\u001b[0m\u001b[0;34m]\u001b[0m \u001b[0;34m*\u001b[0m \u001b[0;34m(\u001b[0m\u001b[0;36m1\u001b[0m\u001b[0;34m-\u001b[0m\u001b[0mLX\u001b[0m\u001b[0;34m[\u001b[0m\u001b[0mk\u001b[0m\u001b[0;34m]\u001b[0m\u001b[0;34m)\u001b[0m \u001b[0;34m*\u001b[0m \u001b[0mLY\u001b[0m\u001b[0;34m[\u001b[0m\u001b[0mk\u001b[0m\u001b[0;34m]\u001b[0m\u001b[0;34m\u001b[0m\u001b[0m\n\u001b[0m\u001b[1;32m     23\u001b[0m \u001b[0;34m\u001b[0m\u001b[0m\n\u001b[1;32m     24\u001b[0m     \u001b[0;31m#lado en y donde no esta la particula\u001b[0m\u001b[0;34m\u001b[0m\u001b[0;34m\u001b[0m\u001b[0m\n",
      "\u001b[0;31mIndexError\u001b[0m: index 3 is out of bounds for axis 0 with size 3"
     ]
    }
   ],
   "source": [
    "masas=np.ones(N)\n",
    "count = np.zeros([nx,ny])\n",
    "\n",
    "print count\n",
    "\n",
    "LX = (distx + dx/2.)/dx\n",
    "LY = (disty + dy/2.)/dy\n",
    "\n",
    "for k in range(N):\n",
    "    \n",
    "    #region de la particula\n",
    "    i = np.int(x[k]*nx)\n",
    "    j = np.int(y[k]*ny)\n",
    "    count[i,j] = count[i,j] + masas[k] * LX[k] * LY[k]\n",
    "    \n",
    "    #lado en x donde no esta la particula\n",
    "    i = np.int((x[k]-sgx[k]*dx/2.)*nx)\n",
    "    j = np.int(y[k]*ny)\n",
    "    count[i,j] = count[i,j] + masas[k] * (1-LX[k]) * LY[k]\n",
    "    \n",
    "    #lado en y donde no esta la particula \n",
    "    i = np.int(x[k]*nx)\n",
    "    j = np.int((y[k]-sgy[k]*dy/2.)*ny)\n",
    "    count[i,j] = count[i,j] + masas[k] * LX[k] * (1-LY[k])\n",
    "\n",
    "    #diagonal (donde NO esta la particula)\n",
    "    i = np.int((x[k]-sgx[k]*dx/2.)*nx)\n",
    "    j = np.int((y[k]-sgy[k]*dy/2.)*ny)\n",
    "    count[i,j] = count[i,j] + masas[k] * (1-LX[k]) * (1-LY[k])\n",
    "\n",
    "    \n",
    "\n",
    "print count"
   ]
  },
  {
   "cell_type": "code",
   "execution_count": null,
   "metadata": {},
   "outputs": [],
   "source": []
  }
 ],
 "metadata": {
  "kernelspec": {
   "display_name": "Python 2",
   "language": "python",
   "name": "python2"
  },
  "language_info": {
   "codemirror_mode": {
    "name": "ipython",
    "version": 2
   },
   "file_extension": ".py",
   "mimetype": "text/x-python",
   "name": "python",
   "nbconvert_exporter": "python",
   "pygments_lexer": "ipython2",
   "version": "2.7.15"
  }
 },
 "nbformat": 4,
 "nbformat_minor": 2
}
