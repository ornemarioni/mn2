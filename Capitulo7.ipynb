{
 "cells": [
  {
   "cell_type": "code",
   "execution_count": 8,
   "metadata": {},
   "outputs": [
    {
     "name": "stdout",
     "output_type": "stream",
     "text": [
      "Populating the interactive namespace from numpy and matplotlib\n"
     ]
    }
   ],
   "source": [
    "%pylab inline"
   ]
  },
  {
   "cell_type": "code",
   "execution_count": 62,
   "metadata": {},
   "outputs": [],
   "source": [
    "import numpy as np\n",
    "import random\n",
    "\n",
    "N = 10  #número de partículas\n",
    "random.seed(17)\n",
    "\n",
    "sample = np.arange(0,1,1e-5)\n",
    "\n",
    "x = random.sample(sample, N)\n",
    "y = random.sample(sample, N)\n",
    "\n",
    "x = np.asarray(x)\n",
    "y = np.asarray(y)"
   ]
  },
  {
   "cell_type": "code",
   "execution_count": 84,
   "metadata": {},
   "outputs": [],
   "source": [
    "nx = 3\n",
    "ny = 3\n",
    "\n",
    "xgrid = np.linspace(0,1,nx)\n",
    "ygrid = np.linspace(0,1,ny)"
   ]
  },
  {
   "cell_type": "code",
   "execution_count": 95,
   "metadata": {},
   "outputs": [
    {
     "data": {
      "image/png": "[encoded data removed]",
      "text/plain": [
       "<Figure size 576x576 with 1 Axes>"
      ]
     },
     "metadata": {
      "needs_background": "light"
     },
     "output_type": "display_data"
    }
   ],
   "source": [
    "import matplotlib\n",
    "import matplotlib.pyplot as plt\n",
    "from __future__ import unicode_literals\n",
    "\n",
    "matplotlib.rcParams['text.usetex'] = True\n",
    "matplotlib.rcParams['text.latex.unicode'] = True\n",
    "\n",
    "\n",
    "col = ('k', 'r', 'b', 'g','m','darkgray', 'darkorange', 'magenta', 'c', 'cyan')\n",
    "fig=plt.figure(1, figsize=(8,8))\n",
    "fig.subplots_adjust(bottom=0.15, left =0.16, right = 0.95, top = 0.95)\n",
    "ax=fig.add_subplot(111)\n",
    "for i in range(nx):\n",
    "    ax.axvline(x = xgrid[i],ls='-', color='r', lw=0.5)\n",
    "    ax.axhline(y = ygrid[i],ls='-', color='r', lw=0.5)\n",
    "ax.axvline(x = 0.25,ls=':', color='b', lw=0.5)\n",
    "ax.axhline(y = 0.25,ls=':', color='b', lw=0.5)\n",
    "ax.axvline(x = 0.75,ls=':', color='b', lw=0.5)\n",
    "ax.axhline(y = 0.75,ls=':', color='b', lw=0.5)\n",
    "\n",
    "for i in range(N):\n",
    "    ax.plot(x[i],y[i],'+k', markersize=10, color = col[i])\n",
    "\n",
    "ax.set_xlim(-0.05,1.05)\n",
    "ax.set_ylim(-0.05,1.05)\n",
    "\n",
    "ax.minorticks_on()\n",
    "ax.tick_params( labelsize=24)\n",
    "ax.tick_params('both', length=3, width=1.2,which='minor', direction='in', right='on',top='on')\n",
    "ax.tick_params('both', length=6, width=1.2,which='major', direction='in', right='on',top='on') \n",
    "ax.set_xlabel('x', fontsize=26)\n",
    "ax.set_ylabel('y',fontsize=26)\n",
    "# fig.savefig('/home/ornela/Dropbox/AAA_2017/escrito/BAAA_2018_art/fig_05.pdf', dpi = 100)\n",
    "plt.show()"
   ]
  },
  {
   "cell_type": "code",
   "execution_count": 65,
   "metadata": {},
   "outputs": [
    {
     "name": "stdout",
     "output_type": "stream",
     "text": [
      "[5 6 7 0 8 8 4 2 0 5]\n",
      "0 8\n"
     ]
    }
   ],
   "source": [
    "nxgrid = np.int_(x*nx)\n",
    "nygrid = np.int_(y*ny)\n",
    "\n",
    "h = nxgrid*ny + nygrid \n",
    "\n",
    "h = np.int_(h) #esto nos dice a que numero de grid total corresponde cada conjunto nxgrid, ygrid\n",
    "\n",
    "print h\n",
    "print h.min(), h.max()\n"
   ]
  },
  {
   "cell_type": "code",
   "execution_count": 83,
   "metadata": {},
   "outputs": [
    {
     "data": {
      "text/plain": [
       "0"
      ]
     },
     "execution_count": 83,
     "metadata": {},
     "output_type": "execute_result"
    }
   ],
   "source": [
    "int(0.6)"
   ]
  },
  {
   "cell_type": "code",
   "execution_count": 66,
   "metadata": {},
   "outputs": [
    {
     "name": "stdout",
     "output_type": "stream",
     "text": [
      "[2. 0. 1. 0. 1. 2. 1. 1. 2.]\n"
     ]
    }
   ],
   "source": [
    "count = np.zeros(nx*ny)\n",
    "\n",
    "for i in range(0,len(h)):\n",
    "    count[h[i]] += 1 \n",
    "\n",
    "print count"
   ]
  },
  {
   "cell_type": "code",
   "execution_count": 85,
   "metadata": {},
   "outputs": [
    {
     "name": "stdout",
     "output_type": "stream",
     "text": [
      "[0.52198 0.80669 0.96049 0.28962 0.7661  0.70421 0.66138 0.11016 0.02693\n",
      " 0.38417]\n",
      "...\n",
      "[0.74639 0.25238 0.5016  0.31743 0.84632 0.94519 0.40159 0.99844 0.06219\n",
      " 0.8126 ]\n"
     ]
    }
   ],
   "source": [
    "print x\n",
    "print '...'\n",
    "print y"
   ]
  },
  {
   "cell_type": "code",
   "execution_count": 93,
   "metadata": {},
   "outputs": [
    {
     "name": "stdout",
     "output_type": "stream",
     "text": [
      "[1 2 2 0 2 2 1 0 0 1]\n",
      "...\n",
      "[2 0 1 0 2 2 1 2 0 2]\n"
     ]
    }
   ],
   "source": [
    "print nxgrid\n",
    "print '...'\n",
    "print nygrid"
   ]
  },
  {
   "cell_type": "code",
   "execution_count": 87,
   "metadata": {},
   "outputs": [
    {
     "data": {
      "text/plain": [
       "3"
      ]
     },
     "execution_count": 87,
     "metadata": {},
     "output_type": "execute_result"
    }
   ],
   "source": [
    "ny"
   ]
  },
  {
   "cell_type": "code",
   "execution_count": null,
   "metadata": {},
   "outputs": [],
   "source": []
  }
 ],
 "metadata": {
  "kernelspec": {
   "display_name": "Python 2",
   "language": "python",
   "name": "python2"
  },
  "language_info": {
   "codemirror_mode": {
    "name": "ipython",
    "version": 2
   },
   "file_extension": ".py",
   "mimetype": "text/x-python",
   "name": "python",
   "nbconvert_exporter": "python",
   "pygments_lexer": "ipython2",
   "version": "2.7.15"
  }
 },
 "nbformat": 4,
 "nbformat_minor": 2
}
