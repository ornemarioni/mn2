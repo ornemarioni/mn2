{
 "cells": [
  {
   "cell_type": "code",
   "execution_count": 1,
   "metadata": {},
   "outputs": [
    {
     "name": "stdout",
     "output_type": "stream",
     "text": [
      "Populating the interactive namespace from numpy and matplotlib\n"
     ]
    }
   ],
   "source": [
    "%pylab inline"
   ]
  },
  {
   "cell_type": "markdown",
   "metadata": {},
   "source": [
    "# Asignación de Masas "
   ]
  },
  {
   "cell_type": "code",
   "execution_count": 39,
   "metadata": {},
   "outputs": [],
   "source": [
    "import numpy as np\n",
    "import random\n",
    "\n",
    "N = 100  #número de partículas\n",
    "random.seed(17)\n",
    "\n",
    "sample = np.arange(0,1,1e-5)\n",
    "\n",
    "x = random.sample(sample, N)\n",
    "# y = random.sample(sample, N)\n",
    "\n",
    "x = np.asarray(x)\n",
    "# y = np.asarray(y)"
   ]
  },
  {
   "cell_type": "code",
   "execution_count": 40,
   "metadata": {},
   "outputs": [
    {
     "name": "stdout",
     "output_type": "stream",
     "text": [
      "0.1\n"
     ]
    }
   ],
   "source": [
    "nx = 10 #numero de celdas\n",
    "# ny = 3\n",
    "\n",
    "xgrid = np.linspace(0,1,nx+1) #posicion de las lineas de nodos\n",
    "# ygrid = np.linspace(0,1,ny+1)\n",
    "\n",
    "dx = 1./nx\n",
    "# dy = 1./ny\n",
    "\n",
    "print dx"
   ]
  },
  {
   "cell_type": "code",
   "execution_count": 41,
   "metadata": {},
   "outputs": [
    {
     "data": {
      "image/png": "[encoded data removed]",
      "text/plain": [
       "<Figure size 1440x144 with 1 Axes>"
      ]
     },
     "metadata": {
      "needs_background": "light"
     },
     "output_type": "display_data"
    }
   ],
   "source": [
    "import matplotlib\n",
    "import matplotlib.pyplot as plt\n",
    "from __future__ import unicode_literals\n",
    "\n",
    "matplotlib.rcParams['text.usetex'] = True\n",
    "matplotlib.rcParams['text.latex.unicode'] = True\n",
    "\n",
    "# col = ('k', 'r', 'b', 'g','m','darkgray', 'darkorange', 'magenta', 'c', 'cyan')\n",
    "\n",
    "fig=plt.figure(1, figsize=(20,2))\n",
    "fig.subplots_adjust(bottom=0.15, left =0.16, right = 0.95, top = 0.95)\n",
    "ax=fig.add_subplot(111)\n",
    "for i in range(nx+1):\n",
    "    ax.axvline(x = xgrid[i],ls='-', color='r', lw=0.5)\n",
    "#     ax.axhline(y = ygrid[i],ls='-', color='r', lw=0.5)\n",
    "\n",
    "# for i in range(N):\n",
    "#     ax.plot(x[i],0,'+k', markersize=10, color = col[i])\n",
    "\n",
    "ax.plot(x,np.zeros(N),'+k', markersize=8)\n",
    "ax.set_xlim(-0.05,1.05)\n",
    "ax.set_ylim(-0.05,0.05)\n",
    "ax.set_yticks([])\n",
    "\n",
    "ax.minorticks_on()\n",
    "ax.tick_params( labelsize=24)\n",
    "ax.tick_params('both', length=3, width=1.2,which='minor', direction='in', right='on',top='on')\n",
    "ax.tick_params('both', length=6, width=1.2,which='major', direction='in', right='on',top='on') \n",
    "ax.set_xlabel('x', fontsize=26)\n",
    "ax.set_ylabel('y',fontsize=26)\n",
    "# fig.savefig('/home/ornela/Dropbox/AAA_2017/escrito/BAAA_2018_art/fig_05.pdf', dpi = 100)\n",
    "plt.show()"
   ]
  },
  {
   "cell_type": "markdown",
   "metadata": {},
   "source": [
    "## NGP "
   ]
  },
  {
   "cell_type": "code",
   "execution_count": 42,
   "metadata": {},
   "outputs": [
    {
     "name": "stdout",
     "output_type": "stream",
     "text": [
      "[5 8 9 2 7 7 6 1 0 3 7 2 5 3 8 9 4 9 0 8 8 1 7 5 9 2 5 8 6 3 0 9 4 9 1 8 8\n",
      " 9 0 3 0 7 3 9 3 7 8 2 5 9 5 3 2 7 1 6 5 5 1 6 9 3 3 9 5 2 0 7 3 4 2 6 7 3\n",
      " 0 9 9 0 5 6 4 7 9 5 3 1 2 1 1 2 8 5 8 9 8 0 9 0 7 8]\n"
     ]
    }
   ],
   "source": [
    "nxgrid = np.int_(x*nx)\n",
    "# nygrid = np.int_(y*ny)\n",
    "\n",
    "print nxgrid #, nygrid\n",
    "\n",
    "# h = nxgrid*ny + nygrid\n",
    "\n",
    "# h = np.int_(h) #esto nos dice a que numero de grid total corresponde cada conjunto nxgrid, ygrid\n",
    "\n",
    "# print h\n",
    "# print h.min(), h.max()\n"
   ]
  },
  {
   "cell_type": "markdown",
   "metadata": {},
   "source": [
    "Definimos un vector masas para sumar las masas en cada celda"
   ]
  },
  {
   "cell_type": "code",
   "execution_count": 43,
   "metadata": {},
   "outputs": [
    {
     "name": "stdout",
     "output_type": "stream",
     "text": [
      "[1. 1. 1. 1. 1. 1. 1. 1. 1. 1. 1. 1. 1. 1. 1. 1. 1. 1. 1. 1. 1. 1. 1. 1.\n",
      " 1. 1. 1. 1. 1. 1. 1. 1. 1. 1. 1. 1. 1. 1. 1. 1. 1. 1. 1. 1. 1. 1. 1. 1.\n",
      " 1. 1. 1. 1. 1. 1. 1. 1. 1. 1. 1. 1. 1. 1. 1. 1. 1. 1. 1. 1. 1. 1. 1. 1.\n",
      " 1. 1. 1. 1. 1. 1. 1. 1. 1. 1. 1. 1. 1. 1. 1. 1. 1. 1. 1. 1. 1. 1. 1. 1.\n",
      " 1. 1. 1. 1.]\n"
     ]
    }
   ],
   "source": [
    "random.seed(29)\n",
    "# masas = random.sample(sample, N)\n",
    "# masas = np.asarray(masas)*10\n",
    "masas=np.ones(N)\n",
    "print masas"
   ]
  },
  {
   "cell_type": "markdown",
   "metadata": {},
   "source": [
    "Acá sumamos las masas de las particulas de cada celda"
   ]
  },
  {
   "cell_type": "code",
   "execution_count": 44,
   "metadata": {},
   "outputs": [
    {
     "name": "stdout",
     "output_type": "stream",
     "text": [
      "count\n",
      "[10.  8.  9. 12.  4. 12.  6. 11. 12. 16.]\n"
     ]
    }
   ],
   "source": [
    "# count = np.zeros(nx*ny)\n",
    "count = np.zeros(nx)\n",
    "h = nxgrid\n",
    "for i in range(0,len(h)):\n",
    "    count[h[i]] = count[h[i]] + masas[i] \n",
    "\n",
    "print 'count'\n",
    "print count\n"
   ]
  },
  {
   "cell_type": "code",
   "execution_count": 28,
   "metadata": {},
   "outputs": [
    {
     "data": {
      "image/png": "[encoded data removed]",
      "text/plain": [
       "<Figure size 1440x576 with 1 Axes>"
      ]
     },
     "metadata": {
      "needs_background": "light"
     },
     "output_type": "display_data"
    }
   ],
   "source": [
    "import matplotlib\n",
    "import matplotlib.pyplot as plt\n",
    "from __future__ import unicode_literals\n",
    "\n",
    "matplotlib.rcParams['text.usetex'] = True\n",
    "matplotlib.rcParams['text.latex.unicode'] = True\n",
    "\n",
    "fig=plt.figure(1, figsize=(20,8))\n",
    "fig.subplots_adjust(bottom=0.15, left =0.16, right = 0.95, top = 0.95)\n",
    "ax=fig.add_subplot(111)\n",
    "\n",
    "ax.step(xgrid,np.concatenate((np.zeros(1),count/dx)),where='pre', color='k')\n",
    "ax.plot([xgrid[-1],xgrid[-1]],[0,count[-1]/dx], ls='-', color='k')\n",
    "\n",
    "for i in range(nx+1):\n",
    "    ax.axvline(x = xgrid[i],ls='--', color='r', lw=0.7)\n",
    "#     ax.axhline(y = ygrid[i],ls='-', color='r', lw=0.5)\n",
    "\n",
    "\n",
    "\n",
    "ax.minorticks_on()\n",
    "ax.tick_params( labelsize=24)\n",
    "ax.tick_params('both', length=3, width=1.2,which='minor', direction='in', right='on',top='on')\n",
    "ax.tick_params('both', length=6, width=1.2,which='major', direction='in', right='on',top='on') \n",
    "ax.set_xlabel('x', fontsize=26)\n",
    "ax.set_ylabel(r'count/$\\Delta$x',fontsize=26)\n",
    "# fig.savefig('/home/ornela/Dropbox/AAA_2017/escrito/BAAA_2018_art/fig_05.pdf', dpi = 100)\n",
    "plt.show()"
   ]
  },
  {
   "cell_type": "markdown",
   "metadata": {},
   "source": [
    "## CIC "
   ]
  },
  {
   "cell_type": "markdown",
   "metadata": {},
   "source": [
    "Definimos un vector masas para sumar las masas en cada celda"
   ]
  },
  {
   "cell_type": "code",
   "execution_count": 45,
   "metadata": {},
   "outputs": [
    {
     "name": "stdout",
     "output_type": "stream",
     "text": [
      "[1. 1. 1. 1. 1. 1. 1. 1. 1. 1. 1. 1. 1. 1. 1. 1. 1. 1. 1. 1. 1. 1. 1. 1.\n",
      " 1. 1. 1. 1. 1. 1. 1. 1. 1. 1. 1. 1. 1. 1. 1. 1. 1. 1. 1. 1. 1. 1. 1. 1.\n",
      " 1. 1. 1. 1. 1. 1. 1. 1. 1. 1. 1. 1. 1. 1. 1. 1. 1. 1. 1. 1. 1. 1. 1. 1.\n",
      " 1. 1. 1. 1. 1. 1. 1. 1. 1. 1. 1. 1. 1. 1. 1. 1. 1. 1. 1. 1. 1. 1. 1. 1.\n",
      " 1. 1. 1. 1.]\n"
     ]
    }
   ],
   "source": [
    "random.seed(29)\n",
    "# masas = random.sample(sample, N)\n",
    "# masas = np.asarray(masas)*10\n",
    "masas=np.ones(N)\n",
    "print masas"
   ]
  },
  {
   "cell_type": "code",
   "execution_count": 46,
   "metadata": {},
   "outputs": [
    {
     "name": "stdout",
     "output_type": "stream",
     "text": [
      "[5 8 9 2 7 7 6 1 0 3 7 2 5 3 8 9 4 9 0 8 8 1 7 5 9 2 5 8 6 3 0 9 4 9 1 8 8\n",
      " 9 0 3 0 7 3 9 3 7 8 2 5 9 5 3 2 7 1 6 5 5 1 6 9 3 3 9 5 2 0 7 3 4 2 6 7 3\n",
      " 0 9 9 0 5 6 4 7 9 5 3 1 2 1 1 2 8 5 8 9 8 0 9 0 7 8]\n"
     ]
    }
   ],
   "source": [
    "nxgrid = np.int_(x*nx)\n",
    "# nygrid = np.int_(y*ny)\n",
    "\n",
    "print nxgrid#, nygrid"
   ]
  },
  {
   "cell_type": "code",
   "execution_count": 47,
   "metadata": {},
   "outputs": [
    {
     "name": "stdout",
     "output_type": "stream",
     "text": [
      "[ 1.  1. -1. -1. -1.  1. -1.  1.  1. -1.  1. -1.  1.  1.  1.  1.  1. -1.\n",
      " -1.  1. -1. -1.  1. -1. -1.  1.  1. -1.  1.  1. -1.  1. -1. -1.  1.  1.\n",
      "  1.  1.  1. -1. -1. -1. -1. -1. -1. -1. -1.  1. -1. -1.  1. -1. -1. -1.\n",
      " -1.  1. -1. -1.  1. -1.  1.  1.  1.  1. -1. -1.  1. -1.  1. -1. -1.  1.\n",
      "  1.  1. -1. -1.  1.  1. -1. -1.  1.  1. -1. -1. -1. -1. -1. -1.  1.  1.\n",
      "  1.  1.  1.  1.  1.  1.  1. -1. -1.  1.]\n",
      "[0.02198 0.00669 0.03951 0.01038 0.0339  0.00421 0.03862 0.01016 0.02693\n",
      " 0.01583 0.04639 0.04762 0.0016  0.01743 0.04632 0.04519 0.00159 0.00156\n",
      " 0.03781 0.0126  0.02469 0.04909 0.00556 0.04111 0.04482 0.01001 0.03996\n",
      " 0.01755 0.03877 0.00919 0.01814 0.03977 0.02591 0.00368 0.0416  0.0122\n",
      " 0.01337 0.01997 0.01783 0.02781 0.04834 0.04797 0.04536 0.0405  0.02518\n",
      " 0.02563 0.03222 0.03894 0.04319 0.04261 0.02691 0.0403  0.0328  0.01354\n",
      " 0.00726 0.00389 0.04446 0.04652 0.02948 0.04144 0.01652 0.01887 0.03207\n",
      " 0.00904 0.02166 0.02743 0.00976 0.04674 0.048   0.03285 0.0275  0.0331\n",
      " 0.02898 0.00978 0.02498 0.01321 0.01004 0.02066 0.03582 0.01401 0.00301\n",
      " 0.03164 0.04019 0.00986 0.00843 0.00436 0.04859 0.0492  0.0104  0.01238\n",
      " 0.04202 0.03697 0.00493 0.02018 0.01078 0.04944 0.02595 0.00721 0.02904\n",
      " 0.03894]\n"
     ]
    }
   ],
   "source": [
    "distx = np.zeros(N)\n",
    "# disty = np.zeros(N)\n",
    "sgx = np.zeros(N)\n",
    "# sgy = np.zeros(N)\n",
    "\n",
    "for i in range(N):\n",
    "    w = x[i] - xgrid\n",
    "    distx_aux = abs(w)\n",
    "    distx[i] = distx_aux.min()\n",
    "    p = distx_aux.argmin()\n",
    "    sgx[i] = np.sign(w[p])\n",
    "print sgx\n",
    "print distx\n",
    "\n",
    "# print '------------------------------------'\n",
    "\n",
    "# for i in range(N):\n",
    "#     w = y[i] - ygrid\n",
    "#     disty_aux = abs(w)\n",
    "#     disty[i] = disty_aux.min()\n",
    "#     p = disty_aux.argmin()\n",
    "#     sgy[i] = np.sign(w[p])\n",
    "# print sgy\n",
    "# print disty\n"
   ]
  },
  {
   "cell_type": "markdown",
   "metadata": {},
   "source": [
    "Acá sumamos las masas de las particulas de cada celda"
   ]
  },
  {
   "cell_type": "code",
   "execution_count": 48,
   "metadata": {},
   "outputs": [
    {
     "name": "stdout",
     "output_type": "stream",
     "text": [
      "count\n",
      "[11.6876  8.0374  9.604  10.9933  5.2303 10.8552  7.1043 11.8168 11.7883\n",
      " 12.8828]\n"
     ]
    }
   ],
   "source": [
    "\n",
    "# count = np.zeros((nx,ny))\n",
    "count = np.zeros(nx)\n",
    "\n",
    "# print count\n",
    "\n",
    "LX = (distx + dx/2.)/dx\n",
    "# LY = (disty + dy/2.)/dy\n",
    "\n",
    "for k in range(N):\n",
    "    \n",
    "    #region de la particula\n",
    "    i_ = np.int(x[k]*nx)\n",
    "#     j_ = np.int(y[k]*ny)\n",
    "    \n",
    "    i = i_%nx\n",
    "#     j = j_%ny\n",
    "#     count[i,j] = count[i,j] + masas[k] * LX[k] * LY[k]\n",
    "\n",
    "    count[i] = count[i] + masas[k] * LX[k]\n",
    "    \n",
    "    \n",
    "    #lado en x donde no esta la particula\n",
    "    i_ = np.int((x[k]-sgx[k]*dx/2.)*nx)\n",
    "#     j_ = np.int(y[k]*ny)\n",
    "    \n",
    "    i = i_%nx\n",
    "#     j = j_%ny\n",
    "\n",
    "#     count[i,j] = count[i,j] + masas[k] * (1.-LX[k]) * LY[k]\n",
    "    count[i] = count[i] + masas[k] * (1.-LX[k])\n",
    "\n",
    "    \n",
    "#     #lado en y donde no esta la particula \n",
    "#     i_ = np.int(x[k]*nx)\n",
    "#     j_ = np.int((y[k]-sgy[k]*dy/2.)*ny)\n",
    "    \n",
    "#     i = i_%nx\n",
    "#     j = j_%ny\n",
    "#     count[i,j] = count[i,j] + masas[k] * LX[k] * (1.-LY[k])\n",
    "\n",
    "#     #diagonal (donde NO esta la particula)\n",
    "#     i_ = np.int((x[k]-sgx[k]*dx/2.)*nx)\n",
    "#     j_ = np.int((y[k]-sgy[k]*dy/2.)*ny)\n",
    "    \n",
    "#     i = i_%nx\n",
    "#     j = j_%ny\n",
    "#     count[i,j] = count[i,j] + masas[k] * (1.-LX[k]) * (1.-LY[k])    \n",
    "\n",
    "print 'count'\n",
    "print count"
   ]
  },
  {
   "cell_type": "code",
   "execution_count": 33,
   "metadata": {},
   "outputs": [
    {
     "data": {
      "image/png": "[encoded data removed]",
      "text/plain": [
       "<Figure size 1440x576 with 1 Axes>"
      ]
     },
     "metadata": {
      "needs_background": "light"
     },
     "output_type": "display_data"
    }
   ],
   "source": [
    "import matplotlib\n",
    "import matplotlib.pyplot as plt\n",
    "from __future__ import unicode_literals\n",
    "\n",
    "matplotlib.rcParams['text.usetex'] = True\n",
    "matplotlib.rcParams['text.latex.unicode'] = True\n",
    "\n",
    "fig=plt.figure(1, figsize=(20,8))\n",
    "fig.subplots_adjust(bottom=0.15, left =0.16, right = 0.95, top = 0.95)\n",
    "ax=fig.add_subplot(111)\n",
    "\n",
    "ax.step(xgrid,np.concatenate((np.zeros(1),count/dx)),where='pre', color='k')\n",
    "ax.plot([xgrid[-1],xgrid[-1]],[0,count[-1]/dx], ls='-', color='k')\n",
    "\n",
    "for i in range(nx+1):\n",
    "    ax.axvline(x = xgrid[i],ls='--', color='r', lw=0.7)\n",
    "#     ax.axhline(y = ygrid[i],ls='-', color='r', lw=0.5)\n",
    "\n",
    "\n",
    "\n",
    "ax.minorticks_on()\n",
    "ax.tick_params( labelsize=24)\n",
    "ax.tick_params('both', length=3, width=1.2,which='minor', direction='in', right='on',top='on')\n",
    "ax.tick_params('both', length=6, width=1.2,which='major', direction='in', right='on',top='on') \n",
    "ax.set_xlabel('x', fontsize=26)\n",
    "ax.set_ylabel(r'count/$\\Delta$x',fontsize=26)\n",
    "# fig.savefig('/home/ornela/Dropbox/AAA_2017/escrito/BAAA_2018_art/fig_05.pdf', dpi = 100)\n",
    "plt.show()"
   ]
  },
  {
   "cell_type": "markdown",
   "metadata": {},
   "source": [
    "## TSC"
   ]
  },
  {
   "cell_type": "markdown",
   "metadata": {},
   "source": [
    "Definimos un vector masas para sumar las masas en cada celda"
   ]
  },
  {
   "cell_type": "code",
   "execution_count": 49,
   "metadata": {},
   "outputs": [
    {
     "name": "stdout",
     "output_type": "stream",
     "text": [
      "[1. 1. 1. 1. 1. 1. 1. 1. 1. 1. 1. 1. 1. 1. 1. 1. 1. 1. 1. 1. 1. 1. 1. 1.\n",
      " 1. 1. 1. 1. 1. 1. 1. 1. 1. 1. 1. 1. 1. 1. 1. 1. 1. 1. 1. 1. 1. 1. 1. 1.\n",
      " 1. 1. 1. 1. 1. 1. 1. 1. 1. 1. 1. 1. 1. 1. 1. 1. 1. 1. 1. 1. 1. 1. 1. 1.\n",
      " 1. 1. 1. 1. 1. 1. 1. 1. 1. 1. 1. 1. 1. 1. 1. 1. 1. 1. 1. 1. 1. 1. 1. 1.\n",
      " 1. 1. 1. 1.]\n"
     ]
    }
   ],
   "source": [
    "random.seed(29)\n",
    "# masas = random.sample(sample, N)\n",
    "# masas = np.asarray(masas)*10\n",
    "masas=np.ones(N)\n",
    "print masas"
   ]
  },
  {
   "cell_type": "code",
   "execution_count": 50,
   "metadata": {},
   "outputs": [
    {
     "name": "stdout",
     "output_type": "stream",
     "text": [
      "[5 8 9 2 7 7 6 1 0 3 7 2 5 3 8 9 4 9 0 8 8 1 7 5 9 2 5 8 6 3 0 9 4 9 1 8 8\n",
      " 9 0 3 0 7 3 9 3 7 8 2 5 9 5 3 2 7 1 6 5 5 1 6 9 3 3 9 5 2 0 7 3 4 2 6 7 3\n",
      " 0 9 9 0 5 6 4 7 9 5 3 1 2 1 1 2 8 5 8 9 8 0 9 0 7 8]\n"
     ]
    }
   ],
   "source": [
    "nxgrid = np.int_(x*nx)\n",
    "\n",
    "print nxgrid"
   ]
  },
  {
   "cell_type": "code",
   "execution_count": 51,
   "metadata": {},
   "outputs": [
    {
     "name": "stdout",
     "output_type": "stream",
     "text": [
      "[ 1.  1. -1. -1. -1.  1. -1.  1.  1. -1.  1. -1.  1.  1.  1.  1.  1. -1.\n",
      " -1.  1. -1. -1.  1. -1. -1.  1.  1. -1.  1.  1. -1.  1. -1. -1.  1.  1.\n",
      "  1.  1.  1. -1. -1. -1. -1. -1. -1. -1. -1.  1. -1. -1.  1. -1. -1. -1.\n",
      " -1.  1. -1. -1.  1. -1.  1.  1.  1.  1. -1. -1.  1. -1.  1. -1. -1.  1.\n",
      "  1.  1. -1. -1.  1.  1. -1. -1.  1.  1. -1. -1. -1. -1. -1. -1.  1.  1.\n",
      "  1.  1.  1.  1.  1.  1.  1. -1. -1.  1.]\n",
      "[0.02198 0.00669 0.03951 0.01038 0.0339  0.00421 0.03862 0.01016 0.02693\n",
      " 0.01583 0.04639 0.04762 0.0016  0.01743 0.04632 0.04519 0.00159 0.00156\n",
      " 0.03781 0.0126  0.02469 0.04909 0.00556 0.04111 0.04482 0.01001 0.03996\n",
      " 0.01755 0.03877 0.00919 0.01814 0.03977 0.02591 0.00368 0.0416  0.0122\n",
      " 0.01337 0.01997 0.01783 0.02781 0.04834 0.04797 0.04536 0.0405  0.02518\n",
      " 0.02563 0.03222 0.03894 0.04319 0.04261 0.02691 0.0403  0.0328  0.01354\n",
      " 0.00726 0.00389 0.04446 0.04652 0.02948 0.04144 0.01652 0.01887 0.03207\n",
      " 0.00904 0.02166 0.02743 0.00976 0.04674 0.048   0.03285 0.0275  0.0331\n",
      " 0.02898 0.00978 0.02498 0.01321 0.01004 0.02066 0.03582 0.01401 0.00301\n",
      " 0.03164 0.04019 0.00986 0.00843 0.00436 0.04859 0.0492  0.0104  0.01238\n",
      " 0.04202 0.03697 0.00493 0.02018 0.01078 0.04944 0.02595 0.00721 0.02904\n",
      " 0.03894]\n"
     ]
    }
   ],
   "source": [
    "distx = np.zeros(N)\n",
    "sgx = np.zeros(N)\n",
    "\n",
    "for i in range(N):\n",
    "    w = x[i] - xgrid\n",
    "    distx_aux = abs(w)\n",
    "    distx[i] = distx_aux.min()\n",
    "    p = distx_aux.argmin()\n",
    "    sgx[i] = np.sign(w[p])\n",
    "\n",
    "print sgx\n",
    "print distx"
   ]
  },
  {
   "cell_type": "markdown",
   "metadata": {},
   "source": [
    "Acá sumamos las masas de las particulas de cada celda"
   ]
  },
  {
   "cell_type": "code",
   "execution_count": 52,
   "metadata": {},
   "outputs": [
    {
     "name": "stdout",
     "output_type": "stream",
     "text": [
      "count\n",
      "[12.35371871  8.15966069  9.55975073 10.57761862  6.21920822  9.87234072\n",
      "  7.75636755 11.3844798  12.27032091 11.84653407]\n"
     ]
    }
   ],
   "source": [
    "# masas=np.ones(N)\n",
    "count = np.zeros(nx)\n",
    "\n",
    "# print count\n",
    "\n",
    "for k in range(N):\n",
    "    \n",
    "    #area mas grande\n",
    "    i_ = np.int((x[k]-sgx[k]*dx)*nx)\n",
    "    i = i_%nx\n",
    "    \n",
    "    area_3 = 0.5*(1.-distx[k]/dx)**2\n",
    "    \n",
    "    count[i] = count[i] + masas[k] * area_3\n",
    "    \n",
    "    #area mas chica\n",
    "    i_ = np.int((x[k]+sgx[k]*dx)*nx)\n",
    "    i = i_%nx\n",
    "    \n",
    "    area_1 = 0.5*(distx[k]/dx)**2\n",
    "    \n",
    "    count[i] = count[i] + masas[k] * area_1\n",
    "        \n",
    "    #area de la particula\n",
    "    i_ = np.int(x[k]*nx)\n",
    "    i = i_%nx\n",
    "    \n",
    "    area_2 = 1.-area_3-area_1\n",
    "    \n",
    "    count[i] = count[i] + masas[k] * area_2\n",
    "print 'count'\n",
    "print count"
   ]
  },
  {
   "cell_type": "code",
   "execution_count": 38,
   "metadata": {},
   "outputs": [
    {
     "data": {
      "image/png": "[encoded data removed]",
      "text/plain": [
       "<Figure size 1440x576 with 1 Axes>"
      ]
     },
     "metadata": {
      "needs_background": "light"
     },
     "output_type": "display_data"
    }
   ],
   "source": [
    "import matplotlib\n",
    "import matplotlib.pyplot as plt\n",
    "from __future__ import unicode_literals\n",
    "\n",
    "matplotlib.rcParams['text.usetex'] = True\n",
    "matplotlib.rcParams['text.latex.unicode'] = True\n",
    "\n",
    "fig=plt.figure(1, figsize=(20,8))\n",
    "fig.subplots_adjust(bottom=0.15, left =0.16, right = 0.95, top = 0.95)\n",
    "ax=fig.add_subplot(111)\n",
    "\n",
    "ax.step(xgrid,np.concatenate((np.zeros(1),count/dx)),where='pre', color='k')\n",
    "ax.plot([xgrid[-1],xgrid[-1]],[0,count[-1]/dx], ls='-', color='k')\n",
    "\n",
    "for i in range(nx+1):\n",
    "    ax.axvline(x = xgrid[i],ls='--', color='r', lw=0.7)\n",
    "#     ax.axhline(y = ygrid[i],ls='-', color='r', lw=0.5)\n",
    "\n",
    "\n",
    "\n",
    "ax.minorticks_on()\n",
    "ax.tick_params( labelsize=24)\n",
    "ax.tick_params('both', length=3, width=1.2,which='minor', direction='in', right='on',top='on')\n",
    "ax.tick_params('both', length=6, width=1.2,which='major', direction='in', right='on',top='on') \n",
    "ax.set_xlabel('x', fontsize=26)\n",
    "ax.set_ylabel(r'count/$\\Delta$x',fontsize=26)\n",
    "# fig.savefig('/home/ornela/Dropbox/AAA_2017/escrito/BAAA_2018_art/fig_05.pdf', dpi = 100)\n",
    "plt.show()"
   ]
  },
  {
   "cell_type": "code",
   "execution_count": null,
   "metadata": {},
   "outputs": [],
   "source": []
  }
 ],
 "metadata": {
  "kernelspec": {
   "display_name": "Python 2",
   "language": "python",
   "name": "python2"
  },
  "language_info": {
   "codemirror_mode": {
    "name": "ipython",
    "version": 2
   },
   "file_extension": ".py",
   "mimetype": "text/x-python",
   "name": "python",
   "nbconvert_exporter": "python",
   "pygments_lexer": "ipython2",
   "version": "2.7.15"
  }
 },
 "nbformat": 4,
 "nbformat_minor": 2
}
